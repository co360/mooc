{
 "cells": [
  {
   "cell_type": "markdown",
   "metadata": {},
   "source": [
    "# Model\n",
    "\n",
    "In this notebook we read in the previously created dataset with features engineered, and then perform the following tasks:\n",
    "    \n",
    "    * Split into train and test data. Also use reduced size subsets for quicker evaluation.\n",
    "    * Evaluate some classification algorithms and paramters.\n",
    "    * Perform simple cross validation to find the best model.\n",
    "    * Measure the model performance."
   ]
  },
  {
   "cell_type": "markdown",
   "metadata": {},
   "source": [
    "## Read in dataset and verify"
   ]
  },
  {
   "cell_type": "code",
   "execution_count": 1,
   "metadata": {},
   "outputs": [],
   "source": [
    "# Imports\n",
    "import findspark\n",
    "findspark.init()\n",
    "findspark.find()\n",
    "import pyspark"
   ]
  },
  {
   "cell_type": "code",
   "execution_count": 2,
   "metadata": {},
   "outputs": [],
   "source": [
    "# Imports for creating spark session\n",
    "from pyspark import SparkContext, SparkConf\n",
    "from pyspark.sql import SparkSession\n",
    "conf = pyspark.SparkConf().setAppName('sparkify-capstone-model').setMaster('local')\n",
    "sc = pyspark.SparkContext(conf=conf)\n",
    "spark = SparkSession(sc)"
   ]
  },
  {
   "cell_type": "code",
   "execution_count": 3,
   "metadata": {},
   "outputs": [],
   "source": [
    "# Imports for modelling, tuning and evaluation\n",
    "from pyspark.ml.classification import LogisticRegression, RandomForestClassifier, GBTClassifier\n",
    "from pyspark.ml.evaluation import BinaryClassificationEvaluator, MulticlassClassificationEvaluator"
   ]
  },
  {
   "cell_type": "code",
   "execution_count": 4,
   "metadata": {},
   "outputs": [],
   "source": [
    "# Imports for visualization and output\n",
    "import matplotlib.pyplot as plt\n",
    "from IPython.display import HTML, display"
   ]
  },
  {
   "cell_type": "code",
   "execution_count": 5,
   "metadata": {},
   "outputs": [],
   "source": [
    "# Read in dataset\n",
    "conf.set(\"spark.driver.maxResultSize\",  \"0\")\n",
    "path = \"out/features.parquet\"\n",
    "df = spark.read.parquet(path)"
   ]
  },
  {
   "cell_type": "code",
   "execution_count": 6,
   "metadata": {},
   "outputs": [
    {
     "name": "stdout",
     "output_type": "stream",
     "text": [
      "Dataset set rows/cols: 528005,2\n"
     ]
    }
   ],
   "source": [
    "# Look at some values about the data to confirm it was read in correctly\n",
    "print(\"Dataset set rows/cols: {},{}\".format(df.count(), len(df.columns)))"
   ]
  },
  {
   "cell_type": "code",
   "execution_count": 7,
   "metadata": {},
   "outputs": [
    {
     "name": "stdout",
     "output_type": "stream",
     "text": [
      "root\n",
      " |-- features: vector (nullable = true)\n",
      " |-- churn: integer (nullable = true)\n",
      "\n",
      "+--------------------+-----+\n",
      "|            features|churn|\n",
      "+--------------------+-----+\n",
      "|[0.0,0.0,90.0,12....|    0|\n",
      "|[0.0,0.0,90.0,12....|    0|\n",
      "|[0.0,0.0,90.0,12....|    0|\n",
      "|[0.0,0.0,90.0,12....|    0|\n",
      "|[0.0,0.0,90.0,12....|    0|\n",
      "|[0.0,0.0,90.0,12....|    0|\n",
      "|[0.0,0.0,90.0,12....|    0|\n",
      "|[0.0,0.0,90.0,12....|    0|\n",
      "|[0.0,0.0,90.0,12....|    0|\n",
      "|[0.0,0.0,90.0,12....|    0|\n",
      "+--------------------+-----+\n",
      "only showing top 10 rows\n",
      "\n"
     ]
    }
   ],
   "source": [
    "df.printSchema()\n",
    "df.show(10)"
   ]
  },
  {
   "cell_type": "markdown",
   "metadata": {},
   "source": [
    "## Split\n",
    "\n",
    "Try three ways to split the data to have an initial idea about how some algorithms perform."
   ]
  },
  {
   "cell_type": "code",
   "execution_count": 8,
   "metadata": {},
   "outputs": [
    {
     "data": {
      "text/plain": [
       "105582"
      ]
     },
     "execution_count": 8,
     "metadata": {},
     "output_type": "execute_result"
    }
   ],
   "source": [
    "# First, we are going to use just a subset of the dataset becuase doing a lot of tuning and cross validation \n",
    "# would take too long otherwise.\n",
    "def createSubset(df, factor):\n",
    "    \"\"\"\n",
    "    INPUT:\n",
    "        df: The dataset to split\n",
    "        factor: How much of the dataset to return\n",
    "    OUTPUT: \n",
    "        df_subset: The split subset\n",
    "    \"\"\"\n",
    "    df_subset, df_dummy = df.randomSplit([factor, 1 - factor])\n",
    "    return df_subset\n",
    "\n",
    "df_subset = createSubset(df, .2)\n",
    "df_subset.count()"
   ]
  },
  {
   "cell_type": "code",
   "execution_count": 9,
   "metadata": {},
   "outputs": [
    {
     "name": "stdout",
     "output_type": "stream",
     "text": [
      "94867\n",
      "10715\n"
     ]
    }
   ],
   "source": [
    "# Now we split the subset into train and test. \n",
    "# Note: Best split factor of 90% was determined by trial and error.\n",
    "df_train, df_test = df_subset.randomSplit([0.9, 0.1])\n",
    "print(df_train.count())\n",
    "print(df_test.count())"
   ]
  },
  {
   "cell_type": "markdown",
   "metadata": {},
   "source": [
    "## Algorithm selection\n",
    "\n",
    "We will be looking at some of pysparks classificatoin algorhtims:\n",
    "\n",
    "    * Logistic Regression (single)\n",
    "    * Random Forest (parallel)\n",
    "    * Gradient-Boosted Tree (sequential)\n",
    "    \n",
    "The most basic, logistic regression is a good start."
   ]
  },
  {
   "cell_type": "markdown",
   "metadata": {},
   "source": [
    "### LogisticRegression\n",
    "\n",
    "First we will be creating a function to fit and train the LR model, which we may use many times.\n",
    "Then we also create some helpful functions for showing the evaluation of the model with some metrics."
   ]
  },
  {
   "cell_type": "code",
   "execution_count": 10,
   "metadata": {},
   "outputs": [],
   "source": [
    "def logisticRegressionPredictions(df_train, df_test, threshold = 0.5, labelCol = \"churn\", featuresCol = \"features\"):\n",
    "    \"\"\" Fit, evaluate and show results for LogisticRegression \n",
    "    INPUT:\n",
    "        df_train: The training data set\n",
    "        df_test: The testing data set\n",
    "        threshold: The algorithm's threshold for classification.\n",
    "        labelCol: The label column name, \"churn\" by default.\n",
    "        featuresCol: The label column name, \"features\" by default.\n",
    "    OUTPUT:\n",
    "        predictions: The model's predictions\n",
    "    \"\"\"\n",
    "    # Fit and train model\n",
    "    logreg = LogisticRegression(labelCol = labelCol, featuresCol = featuresCol, threshold = threshold).fit(df_train)\n",
    "    return logreg.evaluate(df_test).predictions\n",
    "\n",
    "def printConfusionMatrix(tp, fp, tn, fn):\n",
    "    \"\"\" Simple function to output a confusion matrix from f/t/n/p values as html table.\n",
    "    INPUT:\n",
    "        data: The array to print as table\n",
    "    OUTPUT:\n",
    "        Prints the array as html table.\n",
    "    \"\"\"\n",
    "    html = \"<table><tr><td></td><td>Act. True</td><td>False</td></tr>\"\n",
    "    html += \"<tr><td>Pred. Pos.</td><td>{}</td><td>{}</td></tr>\".format(tp, fp)\n",
    "    html += \"<tr><td>Negative</td><td>{}</td><td>{}</td></tr>\".format(fn, tn)    \n",
    "    html += \"</table>\"\n",
    "    display(HTML(html))    \n",
    "    \n",
    "def showEvaluationMetrics(predictions):\n",
    "    \"\"\" Calculate and print the some evaluation metrics for the passed predictions.\n",
    "    INPUT:\n",
    "        predictions: The predictions to evaluate and print\n",
    "    OUTPUT:\n",
    "        Just prints the evaluation metrics\n",
    "    \"\"\"\n",
    "    # Calculate true, false positives and negatives to calculate further metrics later:\n",
    "    tp = predictions[(predictions.churn == 1) & (predictions.prediction == 1)].count()\n",
    "    tn = predictions[(predictions.churn == 0) & (predictions.prediction == 0)].count()\n",
    "    fp = predictions[(predictions.churn == 0) & (predictions.prediction == 1)].count()\n",
    "    fn = predictions[(predictions.churn == 1) & (predictions.prediction == 0)].count()\n",
    "    \n",
    "    printConfusionMatrix(tp, fp, tn, fn)\n",
    "    \n",
    "    # Calculate and print metrics\n",
    "    f1 = MulticlassClassificationEvaluator(labelCol = \"churn\", metricName = \"f1\") \\\n",
    "        .evaluate(predictions)\n",
    "    accuracy = float((tp + tn) / (tp + tn + fp + fn))\n",
    "    recall = float(tp / (tp + fn))\n",
    "    precision = float(tp / (tp + fp))\n",
    "    print(\"F1: \", f1) \n",
    "    print(\"Accuracy: \", accuracy) \n",
    "    print(\"Recall: \", recall)\n",
    "    print(\"Precision: \", precision) \n",
    "    \n",
    "def plotROC(df_model):\n",
    "    \"\"\"\n",
    "    Plot the Receiver Operator Curve for the evaluated model\n",
    "    INPUT:\n",
    "        df_model: The trained model\n",
    "    OUTPUT:\n",
    "        Plots the curve\n",
    "    \"\"\"\n",
    "    plt.figure(figsize = (5,5))\n",
    "    plt.plot([0, 1], [0, 1], 'r--')\n",
    "    plt.plot(df_model.summary.roc.select('FPR').collect(),\n",
    "             df_model.summary.roc.select('TPR').collect())\n",
    "    plt.xlabel('FPR')\n",
    "    plt.ylabel('TPR')\n",
    "    plt.show()    \n",
    "    \n",
    "def printAUC(predictions, labelCol = \"churn\"):\n",
    "    \"\"\" Print the area under curve for the predictions.\n",
    "    INPUT: \n",
    "        predictions: The predictions to get and print the AUC for\n",
    "    OUTPU:\n",
    "        Prints the AUC\n",
    "    \"\"\"\n",
    "    print(\"Area under curve: \", BinaryClassificationEvaluator(labelCol = labelCol).evaluate(predictions))"
   ]
  },
  {
   "cell_type": "code",
   "execution_count": 11,
   "metadata": {},
   "outputs": [
    {
     "data": {
      "text/html": [
       "<table><tr><td></td><td>Act. True</td><td>False</td></tr><tr><td>Pred. Pos.</td><td>236</td><td>107</td></tr><tr><td>Negative</td><td>1845</td><td>8527</td></tr></table>"
      ],
      "text/plain": [
       "<IPython.core.display.HTML object>"
      ]
     },
     "metadata": {},
     "output_type": "display_data"
    },
    {
     "name": "stdout",
     "output_type": "stream",
     "text": [
      "F1:  0.7608456698702306\n",
      "Accuracy:  0.8178254783014466\n",
      "Recall:  0.1134070158577607\n",
      "Precision:  0.6880466472303207\n"
     ]
    }
   ],
   "source": [
    "predictions = logisticRegressionPredictions(df_train, df_test)    \n",
    "showEvaluationMetrics(predictions)  "
   ]
  },
  {
   "cell_type": "code",
   "execution_count": 12,
   "metadata": {},
   "outputs": [
    {
     "data": {
      "image/png": "[encoded data removed]",
      "text/plain": [
       "<Figure size 360x360 with 1 Axes>"
      ]
     },
     "metadata": {
      "needs_background": "light"
     },
     "output_type": "display_data"
    },
    {
     "name": "stdout",
     "output_type": "stream",
     "text": [
      "Area under curve:  0.6775022076149889\n"
     ]
    }
   ],
   "source": [
    "# Evaluation results:\n",
    "\n",
    "# The confusion matrix looks pretty good but a bit worrying is the high count of false negatives (Type 2 errors).\n",
    "# This is possibly due to our label set being unbalanced.\n",
    "\n",
    "# F1 score is looking good, I can be happy with over 80% at first try.\n",
    "# But as expected, the high false negative count lead to a bad recall score.\n",
    "# In the case of churn, a false negative is not a desirable prediction outcome, because this means we miss customers\n",
    "# who actually churn and do not get a chance to change their minds. Which is the point of the excersize.\n",
    "# So we will try to tune this and also watch the overall score.\n",
    "\n",
    "# But before, let's plot the ROC and show AUC:\n",
    "\n",
    "model = LogisticRegression(labelCol = \"churn\").fit(df_train)\n",
    "model.evaluate(df_test).predictions\n",
    "\n",
    "plotROC(model)\n",
    "printAUC(predictions)"
   ]
  },
  {
   "cell_type": "code",
   "execution_count": 13,
   "metadata": {},
   "outputs": [],
   "source": [
    "# This looks like a lot of RO curves I have seen so that and also high AUC seems promising as well.\n",
    "# Lookig the the curve though, we see there is some room for improvement."
   ]
  },
  {
   "cell_type": "markdown",
   "metadata": {},
   "source": [
    "### Optimization: Threshold\n",
    "\n",
    "Since our input data is skewed on the label, we can try to undersample negative cases by lowering the threshold.\n",
    "Hopefully, this will help significantly with our bad recall rate."
   ]
  },
  {
   "cell_type": "code",
   "execution_count": 14,
   "metadata": {},
   "outputs": [
    {
     "data": {
      "text/html": [
       "<table><tr><td></td><td>Act. True</td><td>False</td></tr><tr><td>Pred. Pos.</td><td>261</td><td>167</td></tr><tr><td>Negative</td><td>1820</td><td>8467</td></tr></table>"
      ],
      "text/plain": [
       "<IPython.core.display.HTML object>"
      ]
     },
     "metadata": {},
     "output_type": "display_data"
    },
    {
     "name": "stdout",
     "output_type": "stream",
     "text": [
      "F1:  0.7615725199332655\n",
      "Accuracy:  0.8145590293980401\n",
      "Recall:  0.12542047092743874\n",
      "Precision:  0.6098130841121495\n"
     ]
    }
   ],
   "source": [
    "predictions = logisticRegressionPredictions(df_train, df_test, 0.4)    \n",
    "showEvaluationMetrics(predictions)  "
   ]
  },
  {
   "cell_type": "code",
   "execution_count": 15,
   "metadata": {},
   "outputs": [
    {
     "data": {
      "text/html": [
       "<table><tr><td></td><td>Act. True</td><td>False</td></tr><tr><td>Pred. Pos.</td><td>236</td><td>131</td></tr><tr><td>Negative</td><td>1845</td><td>8503</td></tr></table>"
      ],
      "text/plain": [
       "<IPython.core.display.HTML object>"
      ]
     },
     "metadata": {},
     "output_type": "display_data"
    },
    {
     "name": "stdout",
     "output_type": "stream",
     "text": [
      "F1:  0.7593514772947256\n",
      "Accuracy:  0.815585627624825\n",
      "Recall:  0.1134070158577607\n",
      "Precision:  0.6430517711171662\n"
     ]
    }
   ],
   "source": [
    "# We see that our f1 score has slightly improved. Recall increased by quite a bit but precision also went down.\n",
    "# Let's try one more time with an only slighty smaller threshold:\n",
    "predictions = logisticRegressionPredictions(df_train, df_test, 0.45)    \n",
    "showEvaluationMetrics(predictions)  "
   ]
  },
  {
   "cell_type": "code",
   "execution_count": 16,
   "metadata": {},
   "outputs": [],
   "source": [
    "# Recall went down and precision up.\n",
    "# So there is a tradeoff here. Maybe if we change the input data itself? "
   ]
  },
  {
   "cell_type": "markdown",
   "metadata": {},
   "source": [
    "### Optimization: Undersampling negatives in the input data\n",
    "\n",
    "As an alternative to penalize false negatives, we can try to undersample them."
   ]
  },
  {
   "cell_type": "code",
   "execution_count": 17,
   "metadata": {},
   "outputs": [
    {
     "name": "stdout",
     "output_type": "stream",
     "text": [
      "Ones: 20658, Zeros: 84924\n",
      "24.325279073053554\n"
     ]
    }
   ],
   "source": [
    "# Check distributions of churn \n",
    "zeros = df_subset.filter(df[\"churn\"] == 0)\n",
    "ones = df_subset.filter(df[\"churn\"] == 1)\n",
    "zerosCount = zeros.count()\n",
    "onesCount = ones.count()\n",
    "print(\"Ones: {}, Zeros: {}\".format(onesCount, zerosCount))\n",
    "print(onesCount / zerosCount * 100)"
   ]
  },
  {
   "cell_type": "code",
   "execution_count": 18,
   "metadata": {},
   "outputs": [],
   "source": [
    "# As a \"quick and dirty\" check, we will just hack off some 0's and see what happens.\n",
    "# Note: Normally we would use something like KStratified sampling or similar but that is beyond the scode of this project.\n",
    "def undersampleNegatives(df, ratio, labelCol = \"churn\"):\n",
    "    \"\"\"\n",
    "    Undersample the negatives (0's) in the given dataframe by ratio.\n",
    "    \n",
    "    NOTE: The \"selection\" method here is of course very crude and in a real version should be randomized and shuffled.\n",
    "    \n",
    "    INPUT:\n",
    "        df: dataframe to undersample negatives from\n",
    "        ratio: Undersampling ratio\n",
    "        labelCol: LAbel column name in the input dataframe\n",
    "    OUTPUT:\n",
    "        A new dataframe with negatives undersampled by ratio\n",
    "    \"\"\"\n",
    "    zeros = df.filter(df[labelCol] == 0)\n",
    "    ones = df.filter(df[labelCol] == 1)\n",
    "    zeros = createSubset(zeros, ratio)\n",
    "    return zeros.union(ones)\n",
    "                                \n",
    "df_undersampled = undersampleNegatives(df_subset, .8)"
   ]
  },
  {
   "cell_type": "code",
   "execution_count": 19,
   "metadata": {},
   "outputs": [
    {
     "name": "stdout",
     "output_type": "stream",
     "text": [
      "Ones: 20658, Zeros: 67911\n",
      "30.41922516234483\n"
     ]
    }
   ],
   "source": [
    "# Check distribution again\n",
    "zeros = df_undersampled.filter(df[\"churn\"] == 0)\n",
    "ones = df_undersampled.filter(df[\"churn\"] == 1)\n",
    "zerosCount = zeros.count()\n",
    "onesCount = ones.count()\n",
    "print(\"Ones: {}, Zeros: {}\".format(onesCount, zerosCount))\n",
    "print(onesCount / zerosCount * 100)"
   ]
  },
  {
   "cell_type": "code",
   "execution_count": 20,
   "metadata": {},
   "outputs": [
    {
     "data": {
      "text/html": [
       "<table><tr><td></td><td>Act. True</td><td>False</td></tr><tr><td>Pred. Pos.</td><td>191</td><td>88</td></tr><tr><td>Negative</td><td>1632</td><td>6087</td></tr></table>"
      ],
      "text/plain": [
       "<IPython.core.display.HTML object>"
      ]
     },
     "metadata": {},
     "output_type": "display_data"
    },
    {
     "name": "stdout",
     "output_type": "stream",
     "text": [
      "F1:  0.717912749515747\n",
      "Accuracy:  0.7849462365591398\n",
      "Recall:  0.1047723532638508\n",
      "Precision:  0.6845878136200717\n",
      "Area under curve:  0.6747464805310462\n"
     ]
    }
   ],
   "source": [
    "df_train, df_test = df_undersampled.randomSplit([0.91, 0.09])\n",
    "predictions = logisticRegressionPredictions(df_train, df_test)    \n",
    "showEvaluationMetrics(predictions)  \n",
    "printAUC(predictions)"
   ]
  },
  {
   "cell_type": "code",
   "execution_count": 21,
   "metadata": {},
   "outputs": [],
   "source": [
    "# As we can see, our recall score did go up a little, but at the cost of precision.\n",
    "# Same as when we modified te threshold.\n",
    "# The f1 score stayed about the same, but the AUC went up a little.\n",
    "# \n",
    "# So while we do have some small optimization, it will be a business decision to decide which way to \n",
    "# tune the model - either more precision or more recall.\n",
    "# Another thing we can try is to modify our input data in the ETL stage."
   ]
  },
  {
   "cell_type": "markdown",
   "metadata": {},
   "source": [
    "### RandomForest\n",
    "\n",
    "Logistic regression performed reasonably well but there was a very low recall rate.\n",
    "Let's see how a RandomForesClassifier does on this dataset.\n",
    "Since we have some high correlation, an ensemble learning model\n",
    "like RFC might do a little better."
   ]
  },
  {
   "cell_type": "code",
   "execution_count": 22,
   "metadata": {},
   "outputs": [],
   "source": [
    "def randomForestPredictions(df_train, df_test, numTrees = 50, labelCol = \"churn\", featuresCol = \"features\"):\n",
    "    \"\"\" Fit, evaluate and show results for RandomForestClassifier \n",
    "    INPUT:\n",
    "        df_train: The training data set.\n",
    "        df_test: The testing data set.\n",
    "        numTrees: Number of trees in the forest.\n",
    "        labelCol: The label column name, \"churn\" by default.\n",
    "        featuresCol: The label column name, \"features\" by default.\n",
    "    OUTPUT:\n",
    "        predictions: The model's predictions.\n",
    "    \"\"\"\n",
    "    # Fit and train model\n",
    "    rfc = RandomForestClassifier(labelCol = labelCol, featuresCol = featuresCol, numTrees = numTrees).fit(df_train)\n",
    "    return rfc.transform(df_test)\n",
    "\n",
    "predictions = randomForestPredictions(df_train, df_test)"
   ]
  },
  {
   "cell_type": "code",
   "execution_count": 23,
   "metadata": {},
   "outputs": [
    {
     "data": {
      "text/html": [
       "<table><tr><td></td><td>Act. True</td><td>False</td></tr><tr><td>Pred. Pos.</td><td>304</td><td>0</td></tr><tr><td>Negative</td><td>1519</td><td>6175</td></tr></table>"
      ],
      "text/plain": [
       "<IPython.core.display.HTML object>"
      ]
     },
     "metadata": {},
     "output_type": "display_data"
    },
    {
     "name": "stdout",
     "output_type": "stream",
     "text": [
      "F1:  0.7526614325181695\n",
      "Accuracy:  0.810077519379845\n",
      "Recall:  0.16675809105869446\n",
      "Precision:  1.0\n",
      "Area under curve:  0.9223249926157222\n"
     ]
    }
   ],
   "source": [
    "showEvaluationMetrics(predictions)  \n",
    "printAUC(predictions)"
   ]
  },
  {
   "cell_type": "code",
   "execution_count": 24,
   "metadata": {},
   "outputs": [],
   "source": [
    "# While there is a very low recall rate, the Precision is perfect (This could be due to our reduced dataset size), \n",
    "# and the AUC is pretty high as well.\n",
    "# Let's try another optimization."
   ]
  },
  {
   "cell_type": "markdown",
   "metadata": {},
   "source": [
    "### Optimization: numTrees\n",
    "\n",
    "We will try to increase the number of decision trees in the forest."
   ]
  },
  {
   "cell_type": "code",
   "execution_count": 25,
   "metadata": {},
   "outputs": [
    {
     "data": {
      "text/html": [
       "<table><tr><td></td><td>Act. True</td><td>False</td></tr><tr><td>Pred. Pos.</td><td>304</td><td>0</td></tr><tr><td>Negative</td><td>1519</td><td>6175</td></tr></table>"
      ],
      "text/plain": [
       "<IPython.core.display.HTML object>"
      ]
     },
     "metadata": {},
     "output_type": "display_data"
    },
    {
     "name": "stdout",
     "output_type": "stream",
     "text": [
      "F1:  0.7526614325181695\n",
      "Accuracy:  0.810077519379845\n",
      "Recall:  0.16675809105869446\n",
      "Precision:  1.0\n",
      "Area under curve:  0.9212026268041512\n"
     ]
    }
   ],
   "source": [
    "predictions = randomForestPredictions(df_train, df_test, 100)\n",
    "showEvaluationMetrics(predictions)  \n",
    "printAUC(predictions)"
   ]
  },
  {
   "cell_type": "code",
   "execution_count": 26,
   "metadata": {},
   "outputs": [],
   "source": [
    "# Not a whole lot has improved.\n",
    "# Lastly we try to run the RF on the undersampled input data.\n",
    "# Since it severly penalized the recall, we will remove a larger portion of negatives this time."
   ]
  },
  {
   "cell_type": "markdown",
   "metadata": {},
   "source": [
    "### Optimization: Undersampled negatives\n",
    "\n",
    "Same as above with LogisticRegression."
   ]
  },
  {
   "cell_type": "code",
   "execution_count": 27,
   "metadata": {},
   "outputs": [
    {
     "data": {
      "text/html": [
       "<table><tr><td></td><td>Act. True</td><td>False</td></tr><tr><td>Pred. Pos.</td><td>1789</td><td>506</td></tr><tr><td>Negative</td><td>270</td><td>1782</td></tr></table>"
      ],
      "text/plain": [
       "<IPython.core.display.HTML object>"
      ]
     },
     "metadata": {},
     "output_type": "display_data"
    },
    {
     "name": "stdout",
     "output_type": "stream",
     "text": [
      "F1:  0.8214704759112346\n",
      "Accuracy:  0.8214860823556476\n",
      "Recall:  0.8688683827100534\n",
      "Precision:  0.779520697167756\n",
      "Area under curve:  0.9296603560354167\n"
     ]
    }
   ],
   "source": [
    "# ratio was derived by trial and error\n",
    "df_undersampled = undersampleNegatives(df_subset, .264)\n",
    "df_train, df_test = df_undersampled.randomSplit([0.9, 0.1])\n",
    "predictions = randomForestPredictions(df_train, df_test, 100)\n",
    "showEvaluationMetrics(predictions)  \n",
    "printAUC(predictions)"
   ]
  },
  {
   "cell_type": "code",
   "execution_count": 28,
   "metadata": {},
   "outputs": [
    {
     "data": {
      "text/html": [
       "<table><tr><td></td><td>Act. True</td><td>False</td></tr><tr><td>Pred. Pos.</td><td>1851</td><td>1879</td></tr><tr><td>Negative</td><td>272</td><td>6747</td></tr></table>"
      ],
      "text/plain": [
       "<IPython.core.display.HTML object>"
      ]
     },
     "metadata": {},
     "output_type": "display_data"
    },
    {
     "name": "stdout",
     "output_type": "stream",
     "text": [
      "F1:  0.8170823070494587\n",
      "Accuracy:  0.7998883617080659\n",
      "Recall:  0.8718794159208667\n",
      "Precision:  0.49624664879356567\n",
      "Area under curve:  0.9288822616591779\n"
     ]
    }
   ],
   "source": [
    "# It seems that with severely reduced negatives in the data, the RandomForest classifier was able to converge better.\n",
    "# The f1 score has worsened, but now recall is on a higher level, meaning we would not miss\n",
    "# as many customers churning as before.\n",
    "# But will these good results from the undersampled data hold for the real test data? Let's see:\n",
    "\n",
    "rfc = RandomForestClassifier(labelCol = \"churn\", featuresCol = \"features\", numTrees = 100).fit(df_train)\n",
    "df_train, df_test = df_subset.randomSplit([0.9, 0.1])\n",
    "predictions = rfc.transform(df_test)\n",
    "showEvaluationMetrics(predictions)  \n",
    "printAUC(predictions)"
   ]
  },
  {
   "cell_type": "code",
   "execution_count": 29,
   "metadata": {},
   "outputs": [],
   "source": [
    "# Again we see that there is a tradeoff to be expected between recall and precision.\n",
    "# But the f1 score is good, as is precision, and now recall is looking better, so it's an improvement.\n",
    "# Anyway this concludes the preliminary experiments for RandomForest tuning, in conclusion I like the model better as it seems\n",
    "# to perform better and also gives more leeway when tuning as compared to LogisticRegression."
   ]
  },
  {
   "cell_type": "markdown",
   "metadata": {},
   "source": [
    "### Gradient Boost\n",
    "\n",
    "As last algorithm we try a gradient boosted tree classifier."
   ]
  },
  {
   "cell_type": "code",
   "execution_count": 30,
   "metadata": {},
   "outputs": [],
   "source": [
    "def gbtPredictions(df_train, df_test, maxIter = 10, labelCol = \"churn\", featuresCol = \"features\"):\n",
    "    \"\"\" Fit, evaluate and show results for GBTClassifier \n",
    "    INPUT:\n",
    "        df_train: The training data set.\n",
    "        df_test: The testing data set.\n",
    "        maxIter: Number of maximum iterations in the gradeint boost.\n",
    "        labelCol: The label column name, \"churn\" by default.\n",
    "        featuresCol: The label column name, \"features\" by default.\n",
    "    OUTPUT:\n",
    "        predictions: The model's predictions\n",
    "    \"\"\"\n",
    "    # Fit and train model\n",
    "    gbt = GBTClassifier(labelCol = labelCol, featuresCol = featuresCol, maxIter = maxIter).fit(df_train)\n",
    "    return gbt.transform(df_test)\n",
    "\n",
    "predictions = gbtPredictions(df_train, df_test)"
   ]
  },
  {
   "cell_type": "code",
   "execution_count": 31,
   "metadata": {},
   "outputs": [
    {
     "data": {
      "text/html": [
       "<table><tr><td></td><td>Act. True</td><td>False</td></tr><tr><td>Pred. Pos.</td><td>1225</td><td>0</td></tr><tr><td>Negative</td><td>898</td><td>8626</td></tr></table>"
      ],
      "text/plain": [
       "<IPython.core.display.HTML object>"
      ]
     },
     "metadata": {},
     "output_type": "display_data"
    },
    {
     "name": "stdout",
     "output_type": "stream",
     "text": [
      "F1:  0.9073201489745509\n",
      "Accuracy:  0.9164573448692902\n",
      "Recall:  0.5770136599152144\n",
      "Precision:  1.0\n",
      "Area under curve:  0.9912217813817268\n"
     ]
    }
   ],
   "source": [
    "showEvaluationMetrics(predictions)  \n",
    "printAUC(predictions)"
   ]
  },
  {
   "cell_type": "code",
   "execution_count": 32,
   "metadata": {},
   "outputs": [],
   "source": [
    "# The GBT results look very promising. There are very high rates right off the bat, and recall is nearing 50%."
   ]
  },
  {
   "cell_type": "markdown",
   "metadata": {},
   "source": [
    "### Optimization: Unersampling negatives\n",
    "\n",
    "With our experience from above, let's try undersampling as first optimization."
   ]
  },
  {
   "cell_type": "code",
   "execution_count": 33,
   "metadata": {},
   "outputs": [
    {
     "data": {
      "text/html": [
       "<table><tr><td></td><td>Act. True</td><td>False</td></tr><tr><td>Pred. Pos.</td><td>1500</td><td>14</td></tr><tr><td>Negative</td><td>589</td><td>5025</td></tr></table>"
      ],
      "text/plain": [
       "<IPython.core.display.HTML object>"
      ]
     },
     "metadata": {},
     "output_type": "display_data"
    },
    {
     "name": "stdout",
     "output_type": "stream",
     "text": [
      "F1:  0.9109367889590346\n",
      "Accuracy:  0.9154040404040404\n",
      "Recall:  0.7180469123982767\n",
      "Precision:  0.9907529722589168\n",
      "Area under curve:  0.99112660833816\n"
     ]
    }
   ],
   "source": [
    "# What happens here is largeley analogous to similar procedures above.\n",
    "df_undersampled = undersampleNegatives(df_subset, .6)\n",
    "df_train, df_test = df_undersampled.randomSplit([0.9, 0.1])\n",
    "predictions = gbtPredictions(df_train, df_test)\n",
    "showEvaluationMetrics(predictions)  \n",
    "printAUC(predictions)"
   ]
  },
  {
   "cell_type": "code",
   "execution_count": 34,
   "metadata": {},
   "outputs": [
    {
     "data": {
      "text/html": [
       "<table><tr><td></td><td>Act. True</td><td>False</td></tr><tr><td>Pred. Pos.</td><td>1548</td><td>18</td></tr><tr><td>Negative</td><td>586</td><td>8422</td></tr></table>"
      ],
      "text/plain": [
       "<IPython.core.display.HTML object>"
      ]
     },
     "metadata": {},
     "output_type": "display_data"
    },
    {
     "name": "stdout",
     "output_type": "stream",
     "text": [
      "F1:  0.9394240768846722\n",
      "Accuracy:  0.9428787592207301\n",
      "Recall:  0.725398313027179\n",
      "Precision:  0.9885057471264368\n",
      "Area under curve:  0.9919879617743863\n"
     ]
    }
   ],
   "source": [
    "# This is a significant improvement. There is a strongly improved recall rate at a high precision.\n",
    "# Let's see how it does on the normal sampled test set:\n",
    "\n",
    "gbt = GBTClassifier(labelCol = \"churn\", featuresCol = \"features\", maxIter = 10).fit(df_train)\n",
    "df_train, df_test = df_subset.randomSplit([0.9, 0.1])\n",
    "\n",
    "predictions = gbt.transform(df_test)\n",
    "showEvaluationMetrics(predictions)  \n",
    "printAUC(predictions)"
   ]
  },
  {
   "cell_type": "code",
   "execution_count": 35,
   "metadata": {},
   "outputs": [],
   "source": [
    "# The model was able to translate it's performance very well to the normal sampled dataset. \n",
    "# I am convinced that this is the best algorithm to use. "
   ]
  },
  {
   "cell_type": "markdown",
   "metadata": {},
   "source": [
    "### Full undersampled dataset\n",
    "\n",
    "Let us run and evalute the algorithm on the full (undersampled) dataset."
   ]
  },
  {
   "cell_type": "code",
   "execution_count": 36,
   "metadata": {},
   "outputs": [
    {
     "data": {
      "text/html": [
       "<table><tr><td></td><td>Act. True</td><td>False</td></tr><tr><td>Pred. Pos.</td><td>7589</td><td>228</td></tr><tr><td>Negative</td><td>2766</td><td>42569</td></tr></table>"
      ],
      "text/plain": [
       "<IPython.core.display.HTML object>"
      ]
     },
     "metadata": {},
     "output_type": "display_data"
    },
    {
     "name": "stdout",
     "output_type": "stream",
     "text": [
      "F1:  0.9405484467736669\n",
      "Accuracy:  0.9436709813365443\n",
      "Recall:  0.7328826653790439\n",
      "Precision:  0.9708328003070231\n",
      "Area under curve:  0.9891197861572065\n"
     ]
    }
   ],
   "source": [
    "df_train, df_test = df.randomSplit([0.9, 0.1])\n",
    "df_undersampled = undersampleNegatives(df_train, .6)\n",
    "\n",
    "gbt = GBTClassifier(labelCol = \"churn\", featuresCol = \"features\", maxIter = 10).fit(df_undersampled)\n",
    "predictions = gbt.transform(df_test)\n",
    "                                 \n",
    "showEvaluationMetrics(predictions)  \n",
    "printAUC(predictions)"
   ]
  },
  {
   "cell_type": "code",
   "execution_count": 37,
   "metadata": {},
   "outputs": [],
   "source": [
    "# The f1 score is very good, in fact all scores but recall are very good.\n",
    "# But recall is still very acceptable under these conditions.\n",
    "# Now we can use automated optimization to search for the best GBT model.      "
   ]
  },
  {
   "cell_type": "code",
   "execution_count": 39,
   "metadata": {},
   "outputs": [
    {
     "data": {
      "text/plain": [
       "0"
      ]
     },
     "execution_count": 39,
     "metadata": {},
     "output_type": "execute_result"
    }
   ],
   "source": [
    "# Output the notebook to an html file\n",
    "from subprocess import call\n",
    "call(['python', '-m', 'nbconvert', 'model.ipynb'])"
   ]
  }
 ],
 "metadata": {
  "kernelspec": {
   "display_name": "Python 3",
   "language": "python",
   "name": "python3"
  },
  "language_info": {
   "codemirror_mode": {
    "name": "ipython",
    "version": 3
   },
   "file_extension": ".py",
   "mimetype": "text/x-python",
   "name": "python",
   "nbconvert_exporter": "python",
   "pygments_lexer": "ipython3",
   "version": "3.7.6"
  }
 },
 "nbformat": 4,
 "nbformat_minor": 4
}
