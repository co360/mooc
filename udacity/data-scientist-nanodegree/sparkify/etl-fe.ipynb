{
 "cells": [
  {
   "cell_type": "markdown",
   "metadata": {},
   "source": [
    "## Sparkify churn prediction (ETL, EDA, and Feature Engineering)\n",
    "\n",
    "In this notebook we outline the ETL and EDA parts (in loose order) of the Sparkify churn prediction project.\n",
    "After importing the nessecary dependencies, creating a spark session and loading the data, we take a closer look at the data, perform some cleaning, do some transformation and some vizualizaion. Next we engineer the features. \n",
    "\n",
    "When this is done, we will have a cleaned, polished, and reusable dataset we can use to test and tune models on. \n",
    "So as a last step, we export our cleaned dataset to a parquet file for further processing in the next notebook."
   ]
  },
  {
   "cell_type": "code",
   "execution_count": 1,
   "metadata": {},
   "outputs": [],
   "source": [
    "# Import PySpark dependencies and obtain a spark session\n",
    "import findspark"
   ]
  },
  {
   "cell_type": "code",
   "execution_count": 2,
   "metadata": {},
   "outputs": [],
   "source": [
    "findspark.init()"
   ]
  },
  {
   "cell_type": "code",
   "execution_count": 3,
   "metadata": {},
   "outputs": [
    {
     "data": {
      "text/plain": [
       "'C:\\\\dev\\\\runtimes\\\\spark-2.4.6-bin-hadoop2.7\\\\'"
      ]
     },
     "execution_count": 3,
     "metadata": {},
     "output_type": "execute_result"
    }
   ],
   "source": [
    "findspark.find()"
   ]
  },
  {
   "cell_type": "code",
   "execution_count": 4,
   "metadata": {},
   "outputs": [],
   "source": [
    "import pyspark"
   ]
  },
  {
   "cell_type": "code",
   "execution_count": 5,
   "metadata": {},
   "outputs": [],
   "source": [
    "from pyspark import SparkContext, SparkConf\n",
    "from pyspark.sql import SparkSession\n",
    "conf = pyspark.SparkConf().setAppName('appName').setMaster('local')\n",
    "sc = pyspark.SparkContext(conf=conf)\n",
    "spark = SparkSession(sc)"
   ]
  },
  {
   "cell_type": "code",
   "execution_count": 6,
   "metadata": {},
   "outputs": [],
   "source": [
    "# Imports used for analysis, vizualisation, transformation and feature extraction\n",
    "import pandas as pd\n",
    "from pyspark.sql.types import IntegerType, StringType\n",
    "from pyspark.sql.functions import col, when, udf, avg, regexp_extract, split, when, countDistinct\n",
    "from pyspark.ml.feature import StringIndexer, OneHotEncoder, VectorAssembler\n",
    "import matplotlib.pyplot as plt\n",
    "import seaborn as sns\n",
    "%matplotlib inline"
   ]
  },
  {
   "cell_type": "code",
   "execution_count": 7,
   "metadata": {},
   "outputs": [],
   "source": [
    "# Set spark memory configuration and file path\n",
    "conf.set(\"spark.driver.maxResultSize\",  \"0\")\n",
    "path = \"data/medium-sparkify-event-data.json\""
   ]
  },
  {
   "cell_type": "code",
   "execution_count": 8,
   "metadata": {},
   "outputs": [],
   "source": [
    "# Load the sparkify log data\n",
    "df_raw = spark.read.json(path)"
   ]
  },
  {
   "cell_type": "markdown",
   "metadata": {},
   "source": [
    "## Descriptive Analysis\n",
    "\n",
    "In this section we look at the data in general to get an overview and an understanding of the data.\n",
    "Also we inspect some columns we are not sure about and do some further analysis. This will be useful\n",
    "information for the later stages of Data Cleaning, Transformation and also Feature Engineering."
   ]
  },
  {
   "cell_type": "code",
   "execution_count": 9,
   "metadata": {},
   "outputs": [
    {
     "name": "stdout",
     "output_type": "stream",
     "text": [
      "+-----------------+---------+---------+------+-------------+--------+---------+-----+--------------------+------+--------+-------------+---------+-------------+------+-------------+--------------------+------+\n",
      "|           artist|     auth|firstName|gender|itemInSession|lastName|   length|level|            location|method|    page| registration|sessionId|         song|status|           ts|           userAgent|userId|\n",
      "+-----------------+---------+---------+------+-------------+--------+---------+-----+--------------------+------+--------+-------------+---------+-------------+------+-------------+--------------------+------+\n",
      "|    Martin Orford|Logged In|   Joseph|     M|           20| Morales|597.55057| free|  Corpus Christi, TX|   PUT|NextSong|1532063507000|      292|Grand Designs|   200|1538352011000|\"Mozilla/5.0 (Mac...|   293|\n",
      "|John Brown's Body|Logged In|   Sawyer|     M|           74|  Larson|380.21179| free|Houston-The Woodl...|   PUT|NextSong|1538069638000|       97|        Bulls|   200|1538352025000|\"Mozilla/5.0 (Mac...|    98|\n",
      "+-----------------+---------+---------+------+-------------+--------+---------+-----+--------------------+------+--------+-------------+---------+-------------+------+-------------+--------------------+------+\n",
      "only showing top 2 rows\n",
      "\n",
      "None\n",
      "root\n",
      " |-- artist: string (nullable = true)\n",
      " |-- auth: string (nullable = true)\n",
      " |-- firstName: string (nullable = true)\n",
      " |-- gender: string (nullable = true)\n",
      " |-- itemInSession: long (nullable = true)\n",
      " |-- lastName: string (nullable = true)\n",
      " |-- length: double (nullable = true)\n",
      " |-- level: string (nullable = true)\n",
      " |-- location: string (nullable = true)\n",
      " |-- method: string (nullable = true)\n",
      " |-- page: string (nullable = true)\n",
      " |-- registration: long (nullable = true)\n",
      " |-- sessionId: long (nullable = true)\n",
      " |-- song: string (nullable = true)\n",
      " |-- status: long (nullable = true)\n",
      " |-- ts: long (nullable = true)\n",
      " |-- userAgent: string (nullable = true)\n",
      " |-- userId: string (nullable = true)\n",
      "\n",
      "None\n",
      "Shape: (543705, 18)\n",
      "Nulls: artist           110828\n",
      "auth                  0\n",
      "firstName         15700\n",
      "gender            15700\n",
      "itemInSession         0\n",
      "lastName          15700\n",
      "length           110828\n",
      "level                 0\n",
      "location          15700\n",
      "method                0\n",
      "page                  0\n",
      "registration      15700\n",
      "sessionId             0\n",
      "song             110828\n",
      "status                0\n",
      "ts                    0\n",
      "userAgent         15700\n",
      "userId                0\n",
      "dtype: int64\n"
     ]
    },
    {
     "data": {
      "text/html": [
       "<div>\n",
       "<style scoped>\n",
       "    .dataframe tbody tr th:only-of-type {\n",
       "        vertical-align: middle;\n",
       "    }\n",
       "\n",
       "    .dataframe tbody tr th {\n",
       "        vertical-align: top;\n",
       "    }\n",
       "\n",
       "    .dataframe thead th {\n",
       "        text-align: right;\n",
       "    }\n",
       "</style>\n",
       "<table border=\"1\" class=\"dataframe\">\n",
       "  <thead>\n",
       "    <tr style=\"text-align: right;\">\n",
       "      <th></th>\n",
       "      <th>artist</th>\n",
       "      <th>auth</th>\n",
       "      <th>firstName</th>\n",
       "      <th>gender</th>\n",
       "      <th>itemInSession</th>\n",
       "      <th>lastName</th>\n",
       "      <th>length</th>\n",
       "      <th>level</th>\n",
       "      <th>location</th>\n",
       "      <th>method</th>\n",
       "      <th>page</th>\n",
       "      <th>registration</th>\n",
       "      <th>sessionId</th>\n",
       "      <th>song</th>\n",
       "      <th>status</th>\n",
       "      <th>ts</th>\n",
       "      <th>userAgent</th>\n",
       "      <th>userId</th>\n",
       "    </tr>\n",
       "  </thead>\n",
       "  <tbody>\n",
       "    <tr>\n",
       "      <th>0</th>\n",
       "      <td>Martin Orford</td>\n",
       "      <td>Logged In</td>\n",
       "      <td>Joseph</td>\n",
       "      <td>M</td>\n",
       "      <td>20</td>\n",
       "      <td>Morales</td>\n",
       "      <td>597.55057</td>\n",
       "      <td>free</td>\n",
       "      <td>Corpus Christi, TX</td>\n",
       "      <td>PUT</td>\n",
       "      <td>NextSong</td>\n",
       "      <td>1.532064e+12</td>\n",
       "      <td>292</td>\n",
       "      <td>Grand Designs</td>\n",
       "      <td>200</td>\n",
       "      <td>1538352011000</td>\n",
       "      <td>\"Mozilla/5.0 (Macintosh; Intel Mac OS X 10_9_4...</td>\n",
       "      <td>293</td>\n",
       "    </tr>\n",
       "    <tr>\n",
       "      <th>1</th>\n",
       "      <td>John Brown's Body</td>\n",
       "      <td>Logged In</td>\n",
       "      <td>Sawyer</td>\n",
       "      <td>M</td>\n",
       "      <td>74</td>\n",
       "      <td>Larson</td>\n",
       "      <td>380.21179</td>\n",
       "      <td>free</td>\n",
       "      <td>Houston-The Woodlands-Sugar Land, TX</td>\n",
       "      <td>PUT</td>\n",
       "      <td>NextSong</td>\n",
       "      <td>1.538070e+12</td>\n",
       "      <td>97</td>\n",
       "      <td>Bulls</td>\n",
       "      <td>200</td>\n",
       "      <td>1538352025000</td>\n",
       "      <td>\"Mozilla/5.0 (Macintosh; Intel Mac OS X 10_9_4...</td>\n",
       "      <td>98</td>\n",
       "    </tr>\n",
       "    <tr>\n",
       "      <th>2</th>\n",
       "      <td>Afroman</td>\n",
       "      <td>Logged In</td>\n",
       "      <td>Maverick</td>\n",
       "      <td>M</td>\n",
       "      <td>184</td>\n",
       "      <td>Santiago</td>\n",
       "      <td>202.37016</td>\n",
       "      <td>paid</td>\n",
       "      <td>Orlando-Kissimmee-Sanford, FL</td>\n",
       "      <td>PUT</td>\n",
       "      <td>NextSong</td>\n",
       "      <td>1.535953e+12</td>\n",
       "      <td>178</td>\n",
       "      <td>Because I Got High</td>\n",
       "      <td>200</td>\n",
       "      <td>1538352118000</td>\n",
       "      <td>\"Mozilla/5.0 (Macintosh; Intel Mac OS X 10_9_4...</td>\n",
       "      <td>179</td>\n",
       "    </tr>\n",
       "    <tr>\n",
       "      <th>3</th>\n",
       "      <td>None</td>\n",
       "      <td>Logged In</td>\n",
       "      <td>Maverick</td>\n",
       "      <td>M</td>\n",
       "      <td>185</td>\n",
       "      <td>Santiago</td>\n",
       "      <td>NaN</td>\n",
       "      <td>paid</td>\n",
       "      <td>Orlando-Kissimmee-Sanford, FL</td>\n",
       "      <td>PUT</td>\n",
       "      <td>Logout</td>\n",
       "      <td>1.535953e+12</td>\n",
       "      <td>178</td>\n",
       "      <td>None</td>\n",
       "      <td>307</td>\n",
       "      <td>1538352119000</td>\n",
       "      <td>\"Mozilla/5.0 (Macintosh; Intel Mac OS X 10_9_4...</td>\n",
       "      <td>179</td>\n",
       "    </tr>\n",
       "    <tr>\n",
       "      <th>4</th>\n",
       "      <td>Lily Allen</td>\n",
       "      <td>Logged In</td>\n",
       "      <td>Gianna</td>\n",
       "      <td>F</td>\n",
       "      <td>22</td>\n",
       "      <td>Campos</td>\n",
       "      <td>194.53342</td>\n",
       "      <td>paid</td>\n",
       "      <td>Mobile, AL</td>\n",
       "      <td>PUT</td>\n",
       "      <td>NextSong</td>\n",
       "      <td>1.535931e+12</td>\n",
       "      <td>245</td>\n",
       "      <td>Smile (Radio Edit)</td>\n",
       "      <td>200</td>\n",
       "      <td>1538352124000</td>\n",
       "      <td>Mozilla/5.0 (Windows NT 6.1; WOW64; rv:31.0) G...</td>\n",
       "      <td>246</td>\n",
       "    </tr>\n",
       "  </tbody>\n",
       "</table>\n",
       "</div>"
      ],
      "text/plain": [
       "              artist       auth firstName gender  itemInSession  lastName  \\\n",
       "0      Martin Orford  Logged In    Joseph      M             20   Morales   \n",
       "1  John Brown's Body  Logged In    Sawyer      M             74    Larson   \n",
       "2            Afroman  Logged In  Maverick      M            184  Santiago   \n",
       "3               None  Logged In  Maverick      M            185  Santiago   \n",
       "4         Lily Allen  Logged In    Gianna      F             22    Campos   \n",
       "\n",
       "      length level                              location method      page  \\\n",
       "0  597.55057  free                    Corpus Christi, TX    PUT  NextSong   \n",
       "1  380.21179  free  Houston-The Woodlands-Sugar Land, TX    PUT  NextSong   \n",
       "2  202.37016  paid         Orlando-Kissimmee-Sanford, FL    PUT  NextSong   \n",
       "3        NaN  paid         Orlando-Kissimmee-Sanford, FL    PUT    Logout   \n",
       "4  194.53342  paid                            Mobile, AL    PUT  NextSong   \n",
       "\n",
       "   registration  sessionId                song  status             ts  \\\n",
       "0  1.532064e+12        292       Grand Designs     200  1538352011000   \n",
       "1  1.538070e+12         97               Bulls     200  1538352025000   \n",
       "2  1.535953e+12        178  Because I Got High     200  1538352118000   \n",
       "3  1.535953e+12        178                None     307  1538352119000   \n",
       "4  1.535931e+12        245  Smile (Radio Edit)     200  1538352124000   \n",
       "\n",
       "                                           userAgent userId  \n",
       "0  \"Mozilla/5.0 (Macintosh; Intel Mac OS X 10_9_4...    293  \n",
       "1  \"Mozilla/5.0 (Macintosh; Intel Mac OS X 10_9_4...     98  \n",
       "2  \"Mozilla/5.0 (Macintosh; Intel Mac OS X 10_9_4...    179  \n",
       "3  \"Mozilla/5.0 (Macintosh; Intel Mac OS X 10_9_4...    179  \n",
       "4  Mozilla/5.0 (Windows NT 6.1; WOW64; rv:31.0) G...    246  "
      ]
     },
     "execution_count": 9,
     "metadata": {},
     "output_type": "execute_result"
    }
   ],
   "source": [
    "# Show some infos about to data to get a better idea of it:\n",
    "print(df_raw.show(2))\n",
    "print(df_raw.printSchema())\n",
    "\n",
    "# Create pandas dataset, which is very useful especially in the ETL/EDA stages\n",
    "df_pandas = df_raw.toPandas()\n",
    "print(\"Shape: {}\".format(df_pandas.shape))\n",
    "print(\"Nulls: {}\".format(df_pandas.isnull().sum()))\n",
    "df_pandas.head()"
   ]
  },
  {
   "cell_type": "code",
   "execution_count": 10,
   "metadata": {},
   "outputs": [
    {
     "name": "stdout",
     "output_type": "stream",
     "text": [
      "Row(max(userId)=300051)\n"
     ]
    }
   ],
   "source": [
    "# I immediately see that userid is a string, we should convert it to a numerical value.\n",
    "# This is an early transformation, we use the information in later analysis operations.\n",
    "df_raw = df_raw.withColumn(\"userId\", df_raw[\"userId\"].cast(IntegerType()))\n",
    "df_pandas[\"userId\"] = pd.to_numeric(df_pandas[\"userId\"])\n",
    "print(df_raw.agg({\"userId\": \"max\"}).collect()[0])"
   ]
  },
  {
   "cell_type": "code",
   "execution_count": 11,
   "metadata": {},
   "outputs": [
    {
     "name": "stdout",
     "output_type": "stream",
     "text": [
      "There are 11 categorical columns: artist,auth,firstName,gender,lastName,level,location,method,page,song,userAgent\n",
      "There are 7 numerical columns: itemInSession,length,registration,sessionId,status,ts,userId\n"
     ]
    }
   ],
   "source": [
    "# We see that there are some numerical and some categorical columns. All are nullable.\n",
    "# Taking a closer look at the numerical and categorical columns:\n",
    "categorical_columns = []\n",
    "numerical_columns = []\n",
    "for dtype in df_raw.dtypes:\n",
    "    if dtype[1] == \"string\":\n",
    "        categorical_columns.append(dtype[0])\n",
    "    else:\n",
    "        numerical_columns.append(dtype[0])\n",
    "        \n",
    "print(\"There are {} categorical columns: {}\".format(len(categorical_columns), \",\".join(categorical_columns)))\n",
    "print(\"There are {} numerical columns: {}\".format(len(numerical_columns), \",\".join(numerical_columns)))"
   ]
  },
  {
   "cell_type": "code",
   "execution_count": 12,
   "metadata": {},
   "outputs": [
    {
     "name": "stdout",
     "output_type": "stream",
     "text": [
      "+-------+------------------+------------------+--------------------+------------------+------------------+--------------------+------------------+\n",
      "|summary|     itemInSession|            length|        registration|         sessionId|            status|                  ts|            userId|\n",
      "+-------+------------------+------------------+--------------------+------------------+------------------+--------------------+------------------+\n",
      "|  count|            543705|            432877|              528005|            543705|            543705|              543705|            528005|\n",
      "|   mean|107.30629109535502|248.66459278007807|1.535523414862806...|2040.8143533717732|210.01829116892432|1.540964541209808E12| 60268.42669103512|\n",
      "| stddev|116.72350849187941| 98.41266955052018|3.0787254929942865E9|1434.3389310782754| 31.47191902156764|1.4820571448945475E9|109898.82324176644|\n",
      "|    min|                 0|           0.78322|       1509854193000|                 1|               200|       1538352011000|                 2|\n",
      "|    max|              1005|        3024.66567|       1543073874000|              4808|               404|       1543622466000|            300051|\n",
      "+-------+------------------+------------------+--------------------+------------------+------------------+--------------------+------------------+\n",
      "\n"
     ]
    }
   ],
   "source": [
    "# Now that we have the numerical columns, let's look at some common statistics\n",
    "df_raw.describe(numerical_columns).show()"
   ]
  },
  {
   "cell_type": "code",
   "execution_count": 13,
   "metadata": {},
   "outputs": [
    {
     "name": "stdout",
     "output_type": "stream",
     "text": [
      "Unique users: 449\n",
      "Unique locations: 193\n"
     ]
    }
   ],
   "source": [
    "# Investigate some more columns, here we are interested in the distinct values to help us decide about features\n",
    "print(\"Unique users: {}\".format(df_raw.select(\"userId\").distinct().count()))\n",
    "print(\"Unique locations: {}\".format(df_raw.select(\"location\").distinct().count()))"
   ]
  },
  {
   "cell_type": "code",
   "execution_count": 14,
   "metadata": {},
   "outputs": [
    {
     "name": "stdout",
     "output_type": "stream",
     "text": [
      "Unique status: 3\n"
     ]
    },
    {
     "data": {
      "text/plain": [
       "200    493269\n",
       "307     49917\n",
       "404       519\n",
       "Name: status, dtype: int64"
      ]
     },
     "execution_count": 14,
     "metadata": {},
     "output_type": "execute_result"
    }
   ],
   "source": [
    "# The HTTP status is probably not important. However if there are a lot of 404 (Page not found) this could have an \n",
    "# negative impact on customer experience\n",
    "print(\"Unique status: {}\".format(df_raw.select(\"status\").distinct().count()))\n",
    "df_pandas[\"status\"].value_counts()"
   ]
  },
  {
   "cell_type": "code",
   "execution_count": 15,
   "metadata": {},
   "outputs": [
    {
     "data": {
      "text/html": [
       "<div>\n",
       "<style scoped>\n",
       "    .dataframe tbody tr th:only-of-type {\n",
       "        vertical-align: middle;\n",
       "    }\n",
       "\n",
       "    .dataframe tbody tr th {\n",
       "        vertical-align: top;\n",
       "    }\n",
       "\n",
       "    .dataframe thead th {\n",
       "        text-align: right;\n",
       "    }\n",
       "</style>\n",
       "<table border=\"1\" class=\"dataframe\">\n",
       "  <thead>\n",
       "    <tr style=\"text-align: right;\">\n",
       "      <th></th>\n",
       "      <th>artist</th>\n",
       "      <th>auth</th>\n",
       "      <th>firstName</th>\n",
       "      <th>gender</th>\n",
       "      <th>itemInSession</th>\n",
       "      <th>lastName</th>\n",
       "      <th>length</th>\n",
       "      <th>level</th>\n",
       "      <th>location</th>\n",
       "      <th>method</th>\n",
       "      <th>page</th>\n",
       "      <th>registration</th>\n",
       "      <th>sessionId</th>\n",
       "      <th>song</th>\n",
       "      <th>status</th>\n",
       "      <th>ts</th>\n",
       "      <th>userAgent</th>\n",
       "      <th>userId</th>\n",
       "    </tr>\n",
       "  </thead>\n",
       "  <tbody>\n",
       "    <tr>\n",
       "      <th>3</th>\n",
       "      <td>None</td>\n",
       "      <td>Logged In</td>\n",
       "      <td>Maverick</td>\n",
       "      <td>M</td>\n",
       "      <td>185</td>\n",
       "      <td>Santiago</td>\n",
       "      <td>NaN</td>\n",
       "      <td>paid</td>\n",
       "      <td>Orlando-Kissimmee-Sanford, FL</td>\n",
       "      <td>PUT</td>\n",
       "      <td>Logout</td>\n",
       "      <td>1.535953e+12</td>\n",
       "      <td>178</td>\n",
       "      <td>None</td>\n",
       "      <td>307</td>\n",
       "      <td>1538352119000</td>\n",
       "      <td>\"Mozilla/5.0 (Macintosh; Intel Mac OS X 10_9_4...</td>\n",
       "      <td>179.0</td>\n",
       "    </tr>\n",
       "    <tr>\n",
       "      <th>6</th>\n",
       "      <td>None</td>\n",
       "      <td>Logged Out</td>\n",
       "      <td>None</td>\n",
       "      <td>None</td>\n",
       "      <td>186</td>\n",
       "      <td>None</td>\n",
       "      <td>NaN</td>\n",
       "      <td>paid</td>\n",
       "      <td>None</td>\n",
       "      <td>GET</td>\n",
       "      <td>Home</td>\n",
       "      <td>NaN</td>\n",
       "      <td>178</td>\n",
       "      <td>None</td>\n",
       "      <td>200</td>\n",
       "      <td>1538352148000</td>\n",
       "      <td>None</td>\n",
       "      <td>NaN</td>\n",
       "    </tr>\n",
       "    <tr>\n",
       "      <th>7</th>\n",
       "      <td>None</td>\n",
       "      <td>Logged Out</td>\n",
       "      <td>None</td>\n",
       "      <td>None</td>\n",
       "      <td>187</td>\n",
       "      <td>None</td>\n",
       "      <td>NaN</td>\n",
       "      <td>paid</td>\n",
       "      <td>None</td>\n",
       "      <td>GET</td>\n",
       "      <td>Home</td>\n",
       "      <td>NaN</td>\n",
       "      <td>178</td>\n",
       "      <td>None</td>\n",
       "      <td>200</td>\n",
       "      <td>1538352151000</td>\n",
       "      <td>None</td>\n",
       "      <td>NaN</td>\n",
       "    </tr>\n",
       "    <tr>\n",
       "      <th>8</th>\n",
       "      <td>None</td>\n",
       "      <td>Logged Out</td>\n",
       "      <td>None</td>\n",
       "      <td>None</td>\n",
       "      <td>188</td>\n",
       "      <td>None</td>\n",
       "      <td>NaN</td>\n",
       "      <td>paid</td>\n",
       "      <td>None</td>\n",
       "      <td>GET</td>\n",
       "      <td>Home</td>\n",
       "      <td>NaN</td>\n",
       "      <td>178</td>\n",
       "      <td>None</td>\n",
       "      <td>200</td>\n",
       "      <td>1538352168000</td>\n",
       "      <td>None</td>\n",
       "      <td>NaN</td>\n",
       "    </tr>\n",
       "    <tr>\n",
       "      <th>9</th>\n",
       "      <td>None</td>\n",
       "      <td>Logged Out</td>\n",
       "      <td>None</td>\n",
       "      <td>None</td>\n",
       "      <td>189</td>\n",
       "      <td>None</td>\n",
       "      <td>NaN</td>\n",
       "      <td>paid</td>\n",
       "      <td>None</td>\n",
       "      <td>PUT</td>\n",
       "      <td>Login</td>\n",
       "      <td>NaN</td>\n",
       "      <td>178</td>\n",
       "      <td>None</td>\n",
       "      <td>307</td>\n",
       "      <td>1538352169000</td>\n",
       "      <td>None</td>\n",
       "      <td>NaN</td>\n",
       "    </tr>\n",
       "    <tr>\n",
       "      <th>10</th>\n",
       "      <td>None</td>\n",
       "      <td>Logged In</td>\n",
       "      <td>Maverick</td>\n",
       "      <td>M</td>\n",
       "      <td>190</td>\n",
       "      <td>Santiago</td>\n",
       "      <td>NaN</td>\n",
       "      <td>paid</td>\n",
       "      <td>Orlando-Kissimmee-Sanford, FL</td>\n",
       "      <td>GET</td>\n",
       "      <td>Home</td>\n",
       "      <td>1.535953e+12</td>\n",
       "      <td>178</td>\n",
       "      <td>None</td>\n",
       "      <td>200</td>\n",
       "      <td>1538352176000</td>\n",
       "      <td>\"Mozilla/5.0 (Macintosh; Intel Mac OS X 10_9_4...</td>\n",
       "      <td>179.0</td>\n",
       "    </tr>\n",
       "    <tr>\n",
       "      <th>12</th>\n",
       "      <td>None</td>\n",
       "      <td>Logged In</td>\n",
       "      <td>Colin</td>\n",
       "      <td>M</td>\n",
       "      <td>0</td>\n",
       "      <td>Larson</td>\n",
       "      <td>NaN</td>\n",
       "      <td>free</td>\n",
       "      <td>Dallas-Fort Worth-Arlington, TX</td>\n",
       "      <td>GET</td>\n",
       "      <td>Home</td>\n",
       "      <td>1.537982e+12</td>\n",
       "      <td>497</td>\n",
       "      <td>None</td>\n",
       "      <td>200</td>\n",
       "      <td>1538352241000</td>\n",
       "      <td>Mozilla/5.0 (Windows NT 6.1; WOW64; rv:30.0) G...</td>\n",
       "      <td>100.0</td>\n",
       "    </tr>\n",
       "    <tr>\n",
       "      <th>18</th>\n",
       "      <td>None</td>\n",
       "      <td>Logged In</td>\n",
       "      <td>Sofia</td>\n",
       "      <td>F</td>\n",
       "      <td>268</td>\n",
       "      <td>Gordon</td>\n",
       "      <td>NaN</td>\n",
       "      <td>paid</td>\n",
       "      <td>Rochester, MN</td>\n",
       "      <td>GET</td>\n",
       "      <td>Downgrade</td>\n",
       "      <td>1.533176e+12</td>\n",
       "      <td>162</td>\n",
       "      <td>None</td>\n",
       "      <td>200</td>\n",
       "      <td>1538352336000</td>\n",
       "      <td>\"Mozilla/5.0 (Macintosh; Intel Mac OS X 10_9_4...</td>\n",
       "      <td>163.0</td>\n",
       "    </tr>\n",
       "    <tr>\n",
       "      <th>19</th>\n",
       "      <td>None</td>\n",
       "      <td>Logged In</td>\n",
       "      <td>Maverick</td>\n",
       "      <td>M</td>\n",
       "      <td>192</td>\n",
       "      <td>Santiago</td>\n",
       "      <td>NaN</td>\n",
       "      <td>paid</td>\n",
       "      <td>Orlando-Kissimmee-Sanford, FL</td>\n",
       "      <td>PUT</td>\n",
       "      <td>Add to Playlist</td>\n",
       "      <td>1.535953e+12</td>\n",
       "      <td>178</td>\n",
       "      <td>None</td>\n",
       "      <td>200</td>\n",
       "      <td>1538352376000</td>\n",
       "      <td>\"Mozilla/5.0 (Macintosh; Intel Mac OS X 10_9_4...</td>\n",
       "      <td>179.0</td>\n",
       "    </tr>\n",
       "    <tr>\n",
       "      <th>22</th>\n",
       "      <td>None</td>\n",
       "      <td>Logged In</td>\n",
       "      <td>Sawyer</td>\n",
       "      <td>M</td>\n",
       "      <td>76</td>\n",
       "      <td>Larson</td>\n",
       "      <td>NaN</td>\n",
       "      <td>free</td>\n",
       "      <td>Houston-The Woodlands-Sugar Land, TX</td>\n",
       "      <td>GET</td>\n",
       "      <td>Roll Advert</td>\n",
       "      <td>1.538070e+12</td>\n",
       "      <td>97</td>\n",
       "      <td>None</td>\n",
       "      <td>200</td>\n",
       "      <td>1538352435000</td>\n",
       "      <td>\"Mozilla/5.0 (Macintosh; Intel Mac OS X 10_9_4...</td>\n",
       "      <td>98.0</td>\n",
       "    </tr>\n",
       "    <tr>\n",
       "      <th>24</th>\n",
       "      <td>None</td>\n",
       "      <td>Logged In</td>\n",
       "      <td>Colin</td>\n",
       "      <td>M</td>\n",
       "      <td>3</td>\n",
       "      <td>Larson</td>\n",
       "      <td>NaN</td>\n",
       "      <td>free</td>\n",
       "      <td>Dallas-Fort Worth-Arlington, TX</td>\n",
       "      <td>GET</td>\n",
       "      <td>Roll Advert</td>\n",
       "      <td>1.537982e+12</td>\n",
       "      <td>497</td>\n",
       "      <td>None</td>\n",
       "      <td>200</td>\n",
       "      <td>1538352460000</td>\n",
       "      <td>Mozilla/5.0 (Windows NT 6.1; WOW64; rv:30.0) G...</td>\n",
       "      <td>100.0</td>\n",
       "    </tr>\n",
       "    <tr>\n",
       "      <th>33</th>\n",
       "      <td>None</td>\n",
       "      <td>Logged In</td>\n",
       "      <td>Colin</td>\n",
       "      <td>M</td>\n",
       "      <td>5</td>\n",
       "      <td>Larson</td>\n",
       "      <td>NaN</td>\n",
       "      <td>free</td>\n",
       "      <td>Dallas-Fort Worth-Arlington, TX</td>\n",
       "      <td>GET</td>\n",
       "      <td>Roll Advert</td>\n",
       "      <td>1.537982e+12</td>\n",
       "      <td>497</td>\n",
       "      <td>None</td>\n",
       "      <td>200</td>\n",
       "      <td>1538352650000</td>\n",
       "      <td>Mozilla/5.0 (Windows NT 6.1; WOW64; rv:30.0) G...</td>\n",
       "      <td>100.0</td>\n",
       "    </tr>\n",
       "    <tr>\n",
       "      <th>36</th>\n",
       "      <td>None</td>\n",
       "      <td>Logged In</td>\n",
       "      <td>Payton</td>\n",
       "      <td>F</td>\n",
       "      <td>86</td>\n",
       "      <td>Campbell</td>\n",
       "      <td>NaN</td>\n",
       "      <td>free</td>\n",
       "      <td>Los Angeles-Long Beach-Anaheim, CA</td>\n",
       "      <td>GET</td>\n",
       "      <td>Roll Advert</td>\n",
       "      <td>1.529028e+12</td>\n",
       "      <td>38</td>\n",
       "      <td>None</td>\n",
       "      <td>200</td>\n",
       "      <td>1538352718000</td>\n",
       "      <td>\"Mozilla/5.0 (Windows NT 6.1; WOW64) AppleWebK...</td>\n",
       "      <td>39.0</td>\n",
       "    </tr>\n",
       "    <tr>\n",
       "      <th>39</th>\n",
       "      <td>None</td>\n",
       "      <td>Logged In</td>\n",
       "      <td>Joseph</td>\n",
       "      <td>M</td>\n",
       "      <td>23</td>\n",
       "      <td>Morales</td>\n",
       "      <td>NaN</td>\n",
       "      <td>free</td>\n",
       "      <td>Corpus Christi, TX</td>\n",
       "      <td>PUT</td>\n",
       "      <td>Thumbs Up</td>\n",
       "      <td>1.532064e+12</td>\n",
       "      <td>292</td>\n",
       "      <td>None</td>\n",
       "      <td>307</td>\n",
       "      <td>1538352789000</td>\n",
       "      <td>\"Mozilla/5.0 (Macintosh; Intel Mac OS X 10_9_4...</td>\n",
       "      <td>293.0</td>\n",
       "    </tr>\n",
       "    <tr>\n",
       "      <th>42</th>\n",
       "      <td>None</td>\n",
       "      <td>Logged In</td>\n",
       "      <td>Gianna</td>\n",
       "      <td>F</td>\n",
       "      <td>26</td>\n",
       "      <td>Campos</td>\n",
       "      <td>NaN</td>\n",
       "      <td>paid</td>\n",
       "      <td>Mobile, AL</td>\n",
       "      <td>PUT</td>\n",
       "      <td>Thumbs Up</td>\n",
       "      <td>1.535931e+12</td>\n",
       "      <td>245</td>\n",
       "      <td>None</td>\n",
       "      <td>307</td>\n",
       "      <td>1538352835000</td>\n",
       "      <td>Mozilla/5.0 (Windows NT 6.1; WOW64; rv:31.0) G...</td>\n",
       "      <td>246.0</td>\n",
       "    </tr>\n",
       "    <tr>\n",
       "      <th>47</th>\n",
       "      <td>None</td>\n",
       "      <td>Logged In</td>\n",
       "      <td>Colin</td>\n",
       "      <td>M</td>\n",
       "      <td>7</td>\n",
       "      <td>Larson</td>\n",
       "      <td>NaN</td>\n",
       "      <td>free</td>\n",
       "      <td>Dallas-Fort Worth-Arlington, TX</td>\n",
       "      <td>GET</td>\n",
       "      <td>Roll Advert</td>\n",
       "      <td>1.537982e+12</td>\n",
       "      <td>497</td>\n",
       "      <td>None</td>\n",
       "      <td>200</td>\n",
       "      <td>1538352902000</td>\n",
       "      <td>Mozilla/5.0 (Windows NT 6.1; WOW64; rv:30.0) G...</td>\n",
       "      <td>100.0</td>\n",
       "    </tr>\n",
       "    <tr>\n",
       "      <th>49</th>\n",
       "      <td>None</td>\n",
       "      <td>Logged In</td>\n",
       "      <td>Sawyer</td>\n",
       "      <td>M</td>\n",
       "      <td>79</td>\n",
       "      <td>Larson</td>\n",
       "      <td>NaN</td>\n",
       "      <td>free</td>\n",
       "      <td>Houston-The Woodlands-Sugar Land, TX</td>\n",
       "      <td>GET</td>\n",
       "      <td>Help</td>\n",
       "      <td>1.538070e+12</td>\n",
       "      <td>97</td>\n",
       "      <td>None</td>\n",
       "      <td>200</td>\n",
       "      <td>1538352947000</td>\n",
       "      <td>\"Mozilla/5.0 (Macintosh; Intel Mac OS X 10_9_4...</td>\n",
       "      <td>98.0</td>\n",
       "    </tr>\n",
       "    <tr>\n",
       "      <th>55</th>\n",
       "      <td>None</td>\n",
       "      <td>Logged In</td>\n",
       "      <td>Kee</td>\n",
       "      <td>M</td>\n",
       "      <td>1</td>\n",
       "      <td>Taylor</td>\n",
       "      <td>NaN</td>\n",
       "      <td>free</td>\n",
       "      <td>Virginia Beach-Norfolk-Newport News, VA-NC</td>\n",
       "      <td>GET</td>\n",
       "      <td>Roll Advert</td>\n",
       "      <td>1.533765e+12</td>\n",
       "      <td>195</td>\n",
       "      <td>None</td>\n",
       "      <td>200</td>\n",
       "      <td>1538353076000</td>\n",
       "      <td>\"Mozilla/5.0 (Windows NT 6.1; WOW64) AppleWebK...</td>\n",
       "      <td>196.0</td>\n",
       "    </tr>\n",
       "    <tr>\n",
       "      <th>58</th>\n",
       "      <td>None</td>\n",
       "      <td>Logged In</td>\n",
       "      <td>Gianna</td>\n",
       "      <td>F</td>\n",
       "      <td>28</td>\n",
       "      <td>Campos</td>\n",
       "      <td>NaN</td>\n",
       "      <td>paid</td>\n",
       "      <td>Mobile, AL</td>\n",
       "      <td>GET</td>\n",
       "      <td>Help</td>\n",
       "      <td>1.535931e+12</td>\n",
       "      <td>245</td>\n",
       "      <td>None</td>\n",
       "      <td>200</td>\n",
       "      <td>1538353099000</td>\n",
       "      <td>Mozilla/5.0 (Windows NT 6.1; WOW64; rv:31.0) G...</td>\n",
       "      <td>246.0</td>\n",
       "    </tr>\n",
       "    <tr>\n",
       "      <th>65</th>\n",
       "      <td>None</td>\n",
       "      <td>Logged In</td>\n",
       "      <td>Gianna</td>\n",
       "      <td>F</td>\n",
       "      <td>30</td>\n",
       "      <td>Campos</td>\n",
       "      <td>NaN</td>\n",
       "      <td>paid</td>\n",
       "      <td>Mobile, AL</td>\n",
       "      <td>PUT</td>\n",
       "      <td>Thumbs Down</td>\n",
       "      <td>1.535931e+12</td>\n",
       "      <td>245</td>\n",
       "      <td>None</td>\n",
       "      <td>307</td>\n",
       "      <td>1538353279000</td>\n",
       "      <td>Mozilla/5.0 (Windows NT 6.1; WOW64; rv:31.0) G...</td>\n",
       "      <td>246.0</td>\n",
       "    </tr>\n",
       "    <tr>\n",
       "      <th>67</th>\n",
       "      <td>None</td>\n",
       "      <td>Logged In</td>\n",
       "      <td>Lacey</td>\n",
       "      <td>F</td>\n",
       "      <td>113</td>\n",
       "      <td>Castaneda</td>\n",
       "      <td>NaN</td>\n",
       "      <td>free</td>\n",
       "      <td>El Campo, TX</td>\n",
       "      <td>PUT</td>\n",
       "      <td>Logout</td>\n",
       "      <td>1.537536e+12</td>\n",
       "      <td>442</td>\n",
       "      <td>None</td>\n",
       "      <td>307</td>\n",
       "      <td>1538353282000</td>\n",
       "      <td>\"Mozilla/5.0 (Macintosh; Intel Mac OS X 10_10_...</td>\n",
       "      <td>175.0</td>\n",
       "    </tr>\n",
       "    <tr>\n",
       "      <th>70</th>\n",
       "      <td>None</td>\n",
       "      <td>Logged Out</td>\n",
       "      <td>None</td>\n",
       "      <td>None</td>\n",
       "      <td>114</td>\n",
       "      <td>None</td>\n",
       "      <td>NaN</td>\n",
       "      <td>free</td>\n",
       "      <td>None</td>\n",
       "      <td>GET</td>\n",
       "      <td>Home</td>\n",
       "      <td>NaN</td>\n",
       "      <td>442</td>\n",
       "      <td>None</td>\n",
       "      <td>200</td>\n",
       "      <td>1538353292000</td>\n",
       "      <td>None</td>\n",
       "      <td>NaN</td>\n",
       "    </tr>\n",
       "    <tr>\n",
       "      <th>75</th>\n",
       "      <td>None</td>\n",
       "      <td>Logged In</td>\n",
       "      <td>Payton</td>\n",
       "      <td>F</td>\n",
       "      <td>91</td>\n",
       "      <td>Campbell</td>\n",
       "      <td>NaN</td>\n",
       "      <td>free</td>\n",
       "      <td>Los Angeles-Long Beach-Anaheim, CA</td>\n",
       "      <td>GET</td>\n",
       "      <td>Roll Advert</td>\n",
       "      <td>1.529028e+12</td>\n",
       "      <td>38</td>\n",
       "      <td>None</td>\n",
       "      <td>200</td>\n",
       "      <td>1538353505000</td>\n",
       "      <td>\"Mozilla/5.0 (Windows NT 6.1; WOW64) AppleWebK...</td>\n",
       "      <td>39.0</td>\n",
       "    </tr>\n",
       "    <tr>\n",
       "      <th>81</th>\n",
       "      <td>None</td>\n",
       "      <td>Logged In</td>\n",
       "      <td>Gilbert</td>\n",
       "      <td>M</td>\n",
       "      <td>5</td>\n",
       "      <td>Todd</td>\n",
       "      <td>NaN</td>\n",
       "      <td>free</td>\n",
       "      <td>Charlotte-Concord-Gastonia, NC-SC</td>\n",
       "      <td>GET</td>\n",
       "      <td>Roll Advert</td>\n",
       "      <td>1.537523e+12</td>\n",
       "      <td>440</td>\n",
       "      <td>None</td>\n",
       "      <td>200</td>\n",
       "      <td>1538353606000</td>\n",
       "      <td>Mozilla/5.0 (compatible; MSIE 9.0; Windows NT ...</td>\n",
       "      <td>147.0</td>\n",
       "    </tr>\n",
       "    <tr>\n",
       "      <th>86</th>\n",
       "      <td>None</td>\n",
       "      <td>Logged In</td>\n",
       "      <td>Payton</td>\n",
       "      <td>F</td>\n",
       "      <td>93</td>\n",
       "      <td>Campbell</td>\n",
       "      <td>NaN</td>\n",
       "      <td>free</td>\n",
       "      <td>Los Angeles-Long Beach-Anaheim, CA</td>\n",
       "      <td>GET</td>\n",
       "      <td>Roll Advert</td>\n",
       "      <td>1.529028e+12</td>\n",
       "      <td>38</td>\n",
       "      <td>None</td>\n",
       "      <td>200</td>\n",
       "      <td>1538353769000</td>\n",
       "      <td>\"Mozilla/5.0 (Windows NT 6.1; WOW64) AppleWebK...</td>\n",
       "      <td>39.0</td>\n",
       "    </tr>\n",
       "    <tr>\n",
       "      <th>88</th>\n",
       "      <td>None</td>\n",
       "      <td>Logged In</td>\n",
       "      <td>Gilbert</td>\n",
       "      <td>M</td>\n",
       "      <td>7</td>\n",
       "      <td>Todd</td>\n",
       "      <td>NaN</td>\n",
       "      <td>free</td>\n",
       "      <td>Charlotte-Concord-Gastonia, NC-SC</td>\n",
       "      <td>GET</td>\n",
       "      <td>Home</td>\n",
       "      <td>1.537523e+12</td>\n",
       "      <td>440</td>\n",
       "      <td>None</td>\n",
       "      <td>200</td>\n",
       "      <td>1538353789000</td>\n",
       "      <td>Mozilla/5.0 (compatible; MSIE 9.0; Windows NT ...</td>\n",
       "      <td>147.0</td>\n",
       "    </tr>\n",
       "    <tr>\n",
       "      <th>91</th>\n",
       "      <td>None</td>\n",
       "      <td>Logged In</td>\n",
       "      <td>Colin</td>\n",
       "      <td>M</td>\n",
       "      <td>12</td>\n",
       "      <td>Larson</td>\n",
       "      <td>NaN</td>\n",
       "      <td>free</td>\n",
       "      <td>Dallas-Fort Worth-Arlington, TX</td>\n",
       "      <td>GET</td>\n",
       "      <td>Roll Advert</td>\n",
       "      <td>1.537982e+12</td>\n",
       "      <td>497</td>\n",
       "      <td>None</td>\n",
       "      <td>200</td>\n",
       "      <td>1538353849000</td>\n",
       "      <td>Mozilla/5.0 (Windows NT 6.1; WOW64; rv:30.0) G...</td>\n",
       "      <td>100.0</td>\n",
       "    </tr>\n",
       "    <tr>\n",
       "      <th>101</th>\n",
       "      <td>None</td>\n",
       "      <td>Logged In</td>\n",
       "      <td>Gianna</td>\n",
       "      <td>F</td>\n",
       "      <td>34</td>\n",
       "      <td>Campos</td>\n",
       "      <td>NaN</td>\n",
       "      <td>paid</td>\n",
       "      <td>Mobile, AL</td>\n",
       "      <td>PUT</td>\n",
       "      <td>Thumbs Up</td>\n",
       "      <td>1.535931e+12</td>\n",
       "      <td>245</td>\n",
       "      <td>None</td>\n",
       "      <td>307</td>\n",
       "      <td>1538354092000</td>\n",
       "      <td>Mozilla/5.0 (Windows NT 6.1; WOW64; rv:31.0) G...</td>\n",
       "      <td>246.0</td>\n",
       "    </tr>\n",
       "    <tr>\n",
       "      <th>106</th>\n",
       "      <td>None</td>\n",
       "      <td>Logged In</td>\n",
       "      <td>Sofia</td>\n",
       "      <td>F</td>\n",
       "      <td>276</td>\n",
       "      <td>Gordon</td>\n",
       "      <td>NaN</td>\n",
       "      <td>paid</td>\n",
       "      <td>Rochester, MN</td>\n",
       "      <td>PUT</td>\n",
       "      <td>Thumbs Up</td>\n",
       "      <td>1.533176e+12</td>\n",
       "      <td>162</td>\n",
       "      <td>None</td>\n",
       "      <td>307</td>\n",
       "      <td>1538354194000</td>\n",
       "      <td>\"Mozilla/5.0 (Macintosh; Intel Mac OS X 10_9_4...</td>\n",
       "      <td>163.0</td>\n",
       "    </tr>\n",
       "    <tr>\n",
       "      <th>112</th>\n",
       "      <td>None</td>\n",
       "      <td>Logged In</td>\n",
       "      <td>Kee</td>\n",
       "      <td>M</td>\n",
       "      <td>6</td>\n",
       "      <td>Taylor</td>\n",
       "      <td>NaN</td>\n",
       "      <td>free</td>\n",
       "      <td>Virginia Beach-Norfolk-Newport News, VA-NC</td>\n",
       "      <td>GET</td>\n",
       "      <td>Roll Advert</td>\n",
       "      <td>1.533765e+12</td>\n",
       "      <td>195</td>\n",
       "      <td>None</td>\n",
       "      <td>200</td>\n",
       "      <td>1538354331000</td>\n",
       "      <td>\"Mozilla/5.0 (Windows NT 6.1; WOW64) AppleWebK...</td>\n",
       "      <td>196.0</td>\n",
       "    </tr>\n",
       "  </tbody>\n",
       "</table>\n",
       "</div>"
      ],
      "text/plain": [
       "    artist        auth firstName gender  itemInSession   lastName  length  \\\n",
       "3     None   Logged In  Maverick      M            185   Santiago     NaN   \n",
       "6     None  Logged Out      None   None            186       None     NaN   \n",
       "7     None  Logged Out      None   None            187       None     NaN   \n",
       "8     None  Logged Out      None   None            188       None     NaN   \n",
       "9     None  Logged Out      None   None            189       None     NaN   \n",
       "10    None   Logged In  Maverick      M            190   Santiago     NaN   \n",
       "12    None   Logged In     Colin      M              0     Larson     NaN   \n",
       "18    None   Logged In     Sofia      F            268     Gordon     NaN   \n",
       "19    None   Logged In  Maverick      M            192   Santiago     NaN   \n",
       "22    None   Logged In    Sawyer      M             76     Larson     NaN   \n",
       "24    None   Logged In     Colin      M              3     Larson     NaN   \n",
       "33    None   Logged In     Colin      M              5     Larson     NaN   \n",
       "36    None   Logged In    Payton      F             86   Campbell     NaN   \n",
       "39    None   Logged In    Joseph      M             23    Morales     NaN   \n",
       "42    None   Logged In    Gianna      F             26     Campos     NaN   \n",
       "47    None   Logged In     Colin      M              7     Larson     NaN   \n",
       "49    None   Logged In    Sawyer      M             79     Larson     NaN   \n",
       "55    None   Logged In       Kee      M              1     Taylor     NaN   \n",
       "58    None   Logged In    Gianna      F             28     Campos     NaN   \n",
       "65    None   Logged In    Gianna      F             30     Campos     NaN   \n",
       "67    None   Logged In     Lacey      F            113  Castaneda     NaN   \n",
       "70    None  Logged Out      None   None            114       None     NaN   \n",
       "75    None   Logged In    Payton      F             91   Campbell     NaN   \n",
       "81    None   Logged In   Gilbert      M              5       Todd     NaN   \n",
       "86    None   Logged In    Payton      F             93   Campbell     NaN   \n",
       "88    None   Logged In   Gilbert      M              7       Todd     NaN   \n",
       "91    None   Logged In     Colin      M             12     Larson     NaN   \n",
       "101   None   Logged In    Gianna      F             34     Campos     NaN   \n",
       "106   None   Logged In     Sofia      F            276     Gordon     NaN   \n",
       "112   None   Logged In       Kee      M              6     Taylor     NaN   \n",
       "\n",
       "    level                                    location method             page  \\\n",
       "3    paid               Orlando-Kissimmee-Sanford, FL    PUT           Logout   \n",
       "6    paid                                        None    GET             Home   \n",
       "7    paid                                        None    GET             Home   \n",
       "8    paid                                        None    GET             Home   \n",
       "9    paid                                        None    PUT            Login   \n",
       "10   paid               Orlando-Kissimmee-Sanford, FL    GET             Home   \n",
       "12   free             Dallas-Fort Worth-Arlington, TX    GET             Home   \n",
       "18   paid                               Rochester, MN    GET        Downgrade   \n",
       "19   paid               Orlando-Kissimmee-Sanford, FL    PUT  Add to Playlist   \n",
       "22   free        Houston-The Woodlands-Sugar Land, TX    GET      Roll Advert   \n",
       "24   free             Dallas-Fort Worth-Arlington, TX    GET      Roll Advert   \n",
       "33   free             Dallas-Fort Worth-Arlington, TX    GET      Roll Advert   \n",
       "36   free          Los Angeles-Long Beach-Anaheim, CA    GET      Roll Advert   \n",
       "39   free                          Corpus Christi, TX    PUT        Thumbs Up   \n",
       "42   paid                                  Mobile, AL    PUT        Thumbs Up   \n",
       "47   free             Dallas-Fort Worth-Arlington, TX    GET      Roll Advert   \n",
       "49   free        Houston-The Woodlands-Sugar Land, TX    GET             Help   \n",
       "55   free  Virginia Beach-Norfolk-Newport News, VA-NC    GET      Roll Advert   \n",
       "58   paid                                  Mobile, AL    GET             Help   \n",
       "65   paid                                  Mobile, AL    PUT      Thumbs Down   \n",
       "67   free                                El Campo, TX    PUT           Logout   \n",
       "70   free                                        None    GET             Home   \n",
       "75   free          Los Angeles-Long Beach-Anaheim, CA    GET      Roll Advert   \n",
       "81   free           Charlotte-Concord-Gastonia, NC-SC    GET      Roll Advert   \n",
       "86   free          Los Angeles-Long Beach-Anaheim, CA    GET      Roll Advert   \n",
       "88   free           Charlotte-Concord-Gastonia, NC-SC    GET             Home   \n",
       "91   free             Dallas-Fort Worth-Arlington, TX    GET      Roll Advert   \n",
       "101  paid                                  Mobile, AL    PUT        Thumbs Up   \n",
       "106  paid                               Rochester, MN    PUT        Thumbs Up   \n",
       "112  free  Virginia Beach-Norfolk-Newport News, VA-NC    GET      Roll Advert   \n",
       "\n",
       "     registration  sessionId  song  status             ts  \\\n",
       "3    1.535953e+12        178  None     307  1538352119000   \n",
       "6             NaN        178  None     200  1538352148000   \n",
       "7             NaN        178  None     200  1538352151000   \n",
       "8             NaN        178  None     200  1538352168000   \n",
       "9             NaN        178  None     307  1538352169000   \n",
       "10   1.535953e+12        178  None     200  1538352176000   \n",
       "12   1.537982e+12        497  None     200  1538352241000   \n",
       "18   1.533176e+12        162  None     200  1538352336000   \n",
       "19   1.535953e+12        178  None     200  1538352376000   \n",
       "22   1.538070e+12         97  None     200  1538352435000   \n",
       "24   1.537982e+12        497  None     200  1538352460000   \n",
       "33   1.537982e+12        497  None     200  1538352650000   \n",
       "36   1.529028e+12         38  None     200  1538352718000   \n",
       "39   1.532064e+12        292  None     307  1538352789000   \n",
       "42   1.535931e+12        245  None     307  1538352835000   \n",
       "47   1.537982e+12        497  None     200  1538352902000   \n",
       "49   1.538070e+12         97  None     200  1538352947000   \n",
       "55   1.533765e+12        195  None     200  1538353076000   \n",
       "58   1.535931e+12        245  None     200  1538353099000   \n",
       "65   1.535931e+12        245  None     307  1538353279000   \n",
       "67   1.537536e+12        442  None     307  1538353282000   \n",
       "70            NaN        442  None     200  1538353292000   \n",
       "75   1.529028e+12         38  None     200  1538353505000   \n",
       "81   1.537523e+12        440  None     200  1538353606000   \n",
       "86   1.529028e+12         38  None     200  1538353769000   \n",
       "88   1.537523e+12        440  None     200  1538353789000   \n",
       "91   1.537982e+12        497  None     200  1538353849000   \n",
       "101  1.535931e+12        245  None     307  1538354092000   \n",
       "106  1.533176e+12        162  None     307  1538354194000   \n",
       "112  1.533765e+12        195  None     200  1538354331000   \n",
       "\n",
       "                                             userAgent  userId  \n",
       "3    \"Mozilla/5.0 (Macintosh; Intel Mac OS X 10_9_4...   179.0  \n",
       "6                                                 None     NaN  \n",
       "7                                                 None     NaN  \n",
       "8                                                 None     NaN  \n",
       "9                                                 None     NaN  \n",
       "10   \"Mozilla/5.0 (Macintosh; Intel Mac OS X 10_9_4...   179.0  \n",
       "12   Mozilla/5.0 (Windows NT 6.1; WOW64; rv:30.0) G...   100.0  \n",
       "18   \"Mozilla/5.0 (Macintosh; Intel Mac OS X 10_9_4...   163.0  \n",
       "19   \"Mozilla/5.0 (Macintosh; Intel Mac OS X 10_9_4...   179.0  \n",
       "22   \"Mozilla/5.0 (Macintosh; Intel Mac OS X 10_9_4...    98.0  \n",
       "24   Mozilla/5.0 (Windows NT 6.1; WOW64; rv:30.0) G...   100.0  \n",
       "33   Mozilla/5.0 (Windows NT 6.1; WOW64; rv:30.0) G...   100.0  \n",
       "36   \"Mozilla/5.0 (Windows NT 6.1; WOW64) AppleWebK...    39.0  \n",
       "39   \"Mozilla/5.0 (Macintosh; Intel Mac OS X 10_9_4...   293.0  \n",
       "42   Mozilla/5.0 (Windows NT 6.1; WOW64; rv:31.0) G...   246.0  \n",
       "47   Mozilla/5.0 (Windows NT 6.1; WOW64; rv:30.0) G...   100.0  \n",
       "49   \"Mozilla/5.0 (Macintosh; Intel Mac OS X 10_9_4...    98.0  \n",
       "55   \"Mozilla/5.0 (Windows NT 6.1; WOW64) AppleWebK...   196.0  \n",
       "58   Mozilla/5.0 (Windows NT 6.1; WOW64; rv:31.0) G...   246.0  \n",
       "65   Mozilla/5.0 (Windows NT 6.1; WOW64; rv:31.0) G...   246.0  \n",
       "67   \"Mozilla/5.0 (Macintosh; Intel Mac OS X 10_10_...   175.0  \n",
       "70                                                None     NaN  \n",
       "75   \"Mozilla/5.0 (Windows NT 6.1; WOW64) AppleWebK...    39.0  \n",
       "81   Mozilla/5.0 (compatible; MSIE 9.0; Windows NT ...   147.0  \n",
       "86   \"Mozilla/5.0 (Windows NT 6.1; WOW64) AppleWebK...    39.0  \n",
       "88   Mozilla/5.0 (compatible; MSIE 9.0; Windows NT ...   147.0  \n",
       "91   Mozilla/5.0 (Windows NT 6.1; WOW64; rv:30.0) G...   100.0  \n",
       "101  Mozilla/5.0 (Windows NT 6.1; WOW64; rv:31.0) G...   246.0  \n",
       "106  \"Mozilla/5.0 (Macintosh; Intel Mac OS X 10_9_4...   163.0  \n",
       "112  \"Mozilla/5.0 (Windows NT 6.1; WOW64) AppleWebK...   196.0  "
      ]
     },
     "execution_count": 15,
     "metadata": {},
     "output_type": "execute_result"
    }
   ],
   "source": [
    "# At 0.1% it's not likely that 404 encounters have any relevance.\n",
    "\n",
    "# Looking at the null values, we recognize that certain columns share the same amount of mull values:\n",
    "\n",
    "# amount    | columns\n",
    "# ----------|------------------\n",
    "# 110828    |artist,song,length\n",
    "# ----------|------------------\n",
    "# 15700     |firstname,lastname,gender,location,registration,userAgent\n",
    "\n",
    "# Becuase of the exact same numbers of missing values in these columns, we can suspect that these are linked.\n",
    "# We can do a spot check to furhter implicate this:\n",
    "df_pandas[df_pandas[\"artist\"].isnull()][:30]"
   ]
  },
  {
   "cell_type": "code",
   "execution_count": 16,
   "metadata": {},
   "outputs": [
    {
     "data": {
      "text/html": [
       "<div>\n",
       "<style scoped>\n",
       "    .dataframe tbody tr th:only-of-type {\n",
       "        vertical-align: middle;\n",
       "    }\n",
       "\n",
       "    .dataframe tbody tr th {\n",
       "        vertical-align: top;\n",
       "    }\n",
       "\n",
       "    .dataframe thead th {\n",
       "        text-align: right;\n",
       "    }\n",
       "</style>\n",
       "<table border=\"1\" class=\"dataframe\">\n",
       "  <thead>\n",
       "    <tr style=\"text-align: right;\">\n",
       "      <th></th>\n",
       "      <th>artist</th>\n",
       "      <th>auth</th>\n",
       "      <th>firstName</th>\n",
       "      <th>gender</th>\n",
       "      <th>itemInSession</th>\n",
       "      <th>lastName</th>\n",
       "      <th>length</th>\n",
       "      <th>level</th>\n",
       "      <th>location</th>\n",
       "      <th>method</th>\n",
       "      <th>page</th>\n",
       "      <th>registration</th>\n",
       "      <th>sessionId</th>\n",
       "      <th>song</th>\n",
       "      <th>status</th>\n",
       "      <th>ts</th>\n",
       "      <th>userAgent</th>\n",
       "      <th>userId</th>\n",
       "    </tr>\n",
       "  </thead>\n",
       "  <tbody>\n",
       "  </tbody>\n",
       "</table>\n",
       "</div>"
      ],
      "text/plain": [
       "Empty DataFrame\n",
       "Columns: [artist, auth, firstName, gender, itemInSession, lastName, length, level, location, method, page, registration, sessionId, song, status, ts, userAgent, userId]\n",
       "Index: []"
      ]
     },
     "execution_count": 16,
     "metadata": {},
     "output_type": "execute_result"
    }
   ],
   "source": [
    "# The above table shows that in every case of the subset, all 3 columns are null/NaN.\n",
    "\n",
    "# It seems that the first kind of missing values is related to user actions on the site that did not involve playback\n",
    "# of music titles. In the second kind it seems there is no user data. Perhaps these are actions of guest users, which we\n",
    "# would not be interested in incorporating in our data. It would be interesting to know if in the second kind, there are\n",
    "# artist, song and length values present at all. If this is the case, it could mean that guest users played back music titles.\n",
    "# We can do another spot check to highlight this:\n",
    "df_pandas.loc[(df_pandas[\"registration\"].isnull()) & (df_pandas[\"artist\"].notnull())][:30]"
   ]
  },
  {
   "cell_type": "code",
   "execution_count": 17,
   "metadata": {},
   "outputs": [
    {
     "data": {
      "text/plain": [
       "Home                   8323\n",
       "Login                  6011\n",
       "About                   829\n",
       "Help                    506\n",
       "Error                    16\n",
       "Register                 11\n",
       "Submit Registration       4\n",
       "Name: page, dtype: int64"
      ]
     },
     "execution_count": 17,
     "metadata": {},
     "output_type": "execute_result"
    }
   ],
   "source": [
    "# It looks like no guest played a music file, as the above table is empty.\n",
    "# Then what what were the actions of the guests?\n",
    "df_pandas.loc[df_pandas[\"registration\"].isnull()][\"page\"].value_counts()"
   ]
  },
  {
   "cell_type": "code",
   "execution_count": 18,
   "metadata": {},
   "outputs": [
    {
     "data": {
      "text/html": [
       "<div>\n",
       "<style scoped>\n",
       "    .dataframe tbody tr th:only-of-type {\n",
       "        vertical-align: middle;\n",
       "    }\n",
       "\n",
       "    .dataframe tbody tr th {\n",
       "        vertical-align: top;\n",
       "    }\n",
       "\n",
       "    .dataframe thead th {\n",
       "        text-align: right;\n",
       "    }\n",
       "</style>\n",
       "<table border=\"1\" class=\"dataframe\">\n",
       "  <thead>\n",
       "    <tr style=\"text-align: right;\">\n",
       "      <th></th>\n",
       "      <th>artist</th>\n",
       "      <th>auth</th>\n",
       "      <th>firstName</th>\n",
       "      <th>gender</th>\n",
       "      <th>itemInSession</th>\n",
       "      <th>lastName</th>\n",
       "      <th>length</th>\n",
       "      <th>level</th>\n",
       "      <th>location</th>\n",
       "      <th>method</th>\n",
       "      <th>page</th>\n",
       "      <th>registration</th>\n",
       "      <th>sessionId</th>\n",
       "      <th>song</th>\n",
       "      <th>status</th>\n",
       "      <th>ts</th>\n",
       "      <th>userAgent</th>\n",
       "      <th>userId</th>\n",
       "    </tr>\n",
       "  </thead>\n",
       "  <tbody>\n",
       "  </tbody>\n",
       "</table>\n",
       "</div>"
      ],
      "text/plain": [
       "Empty DataFrame\n",
       "Columns: [artist, auth, firstName, gender, itemInSession, lastName, length, level, location, method, page, registration, sessionId, song, status, ts, userAgent, userId]\n",
       "Index: []"
      ]
     },
     "execution_count": 18,
     "metadata": {},
     "output_type": "execute_result"
    }
   ],
   "source": [
    "# We see again that guests did not play any songs.\n",
    "# Just to be extra sure, confirm that users without registration info do not have a user id:\n",
    "df_pandas.loc[(df_pandas[\"registration\"].isnull()) & (df_pandas[\"userId\"] > 0)][:30]"
   ]
  },
  {
   "cell_type": "code",
   "execution_count": 19,
   "metadata": {},
   "outputs": [
    {
     "name": "stdout",
     "output_type": "stream",
     "text": [
      "+----------+\n",
      "|      auth|\n",
      "+----------+\n",
      "|Logged Out|\n",
      "| Cancelled|\n",
      "|     Guest|\n",
      "| Logged In|\n",
      "+----------+\n",
      "\n",
      "None\n",
      "Logged In     527906\n",
      "Logged Out     15606\n",
      "Cancelled         99\n",
      "Guest             94\n",
      "Name: auth, dtype: int64\n",
      "+--------------------+\n",
      "|                page|\n",
      "+--------------------+\n",
      "|              Cancel|\n",
      "|    Submit Downgrade|\n",
      "|         Thumbs Down|\n",
      "|                Home|\n",
      "|           Downgrade|\n",
      "|         Roll Advert|\n",
      "|              Logout|\n",
      "|       Save Settings|\n",
      "|Cancellation Conf...|\n",
      "|               About|\n",
      "| Submit Registration|\n",
      "|            Settings|\n",
      "|               Login|\n",
      "|            Register|\n",
      "|     Add to Playlist|\n",
      "|          Add Friend|\n",
      "|            NextSong|\n",
      "|           Thumbs Up|\n",
      "|                Help|\n",
      "|             Upgrade|\n",
      "+--------------------+\n",
      "only showing top 20 rows\n",
      "\n",
      "None\n",
      "NextSong                     432877\n",
      "Home                          27412\n",
      "Thumbs Up                     23826\n",
      "Add to Playlist               12349\n",
      "Add Friend                     8087\n",
      "Roll Advert                    7773\n",
      "Login                          6011\n",
      "Logout                         5990\n",
      "Thumbs Down                    4911\n",
      "Downgrade                      3811\n",
      "Help                           3150\n",
      "Settings                       2964\n",
      "About                          1855\n",
      "Upgrade                         968\n",
      "Save Settings                   585\n",
      "Error                           519\n",
      "Submit Upgrade                  287\n",
      "Submit Downgrade                117\n",
      "Cancel                           99\n",
      "Cancellation Confirmation        99\n",
      "Register                         11\n",
      "Submit Registration               4\n",
      "Name: page, dtype: int64\n"
     ]
    }
   ],
   "source": [
    "# After this confirmation and the above steps in a simple analysis, it stands to reason that we can eliminate \n",
    "# guest rows from our final dataset. Guests are not even registered, so they have no user id and we cannot \n",
    "# track wether they will churn.\n",
    "# Columns and rows are removed in a later cell below.\n",
    "\n",
    "# For now let's look at some data that could be interesting for us:\n",
    "# From preliminary analysis, we know that the fields \"auth\" and \"page\" contain events we want to process\n",
    "# Show some more information on these columns:\n",
    "print(df_raw.select(\"auth\").distinct().show())\n",
    "print(df_pandas[\"auth\"].value_counts())\n",
    "print(df_raw.select(\"page\").distinct().show())\n",
    "print(df_pandas[\"page\"].value_counts())"
   ]
  },
  {
   "cell_type": "code",
   "execution_count": 20,
   "metadata": {},
   "outputs": [
    {
     "name": "stdout",
     "output_type": "stream",
     "text": [
      "+---------+--------------------+\n",
      "|     auth|                page|\n",
      "+---------+--------------------+\n",
      "|Cancelled|Cancellation Conf...|\n",
      "+---------+--------------------+\n",
      "\n"
     ]
    }
   ],
   "source": [
    "# Interesting values in \"page\" could be: When/How often a user logged in, gave thumbs up and down, Upgrade, Downgrade, Cancel.\n",
    "# Since this data is from a website and we are looking at \"page\" data, it seems that users can go to a cancellation page first\n",
    "# before submitting the actual cancellation. Therefore, only \"Cancellation Confirmation\" should be used as churn cirterium.\n",
    "\n",
    "# We have seen \"Cancelled\" in the \"auth\" columns. Also both have 99 values.\n",
    "# let's see the differnece to the \"page\" column:\n",
    "df_raw.select(\"auth\", \"page\").where(df_raw[\"auth\"] == \"Cancelled\").distinct().show()"
   ]
  },
  {
   "cell_type": "code",
   "execution_count": 21,
   "metadata": {},
   "outputs": [
    {
     "name": "stdout",
     "output_type": "stream",
     "text": [
      "+---------+\n",
      "|     page|\n",
      "+---------+\n",
      "|     Home|\n",
      "| NextSong|\n",
      "| NextSong|\n",
      "|Thumbs Up|\n",
      "| NextSong|\n",
      "| NextSong|\n",
      "| NextSong|\n",
      "| NextSong|\n",
      "|     Home|\n",
      "| NextSong|\n",
      "| NextSong|\n",
      "| NextSong|\n",
      "| NextSong|\n",
      "|Thumbs Up|\n",
      "| NextSong|\n",
      "| NextSong|\n",
      "| NextSong|\n",
      "| NextSong|\n",
      "| NextSong|\n",
      "|Thumbs Up|\n",
      "+---------+\n",
      "only showing top 20 rows\n",
      "\n"
     ]
    }
   ],
   "source": [
    "# \"Cancel\" and \"Cancellation Confirmation\" both have a count of 99 and only occur together in rows.\n",
    "# Therefor we can presume they both describe the same event.\n",
    "\n",
    "# Let us have a closer look at some user's events after they did visit the Downgrade page:\n",
    "\n",
    "# Select users that visited the \"Submit Downgrade\" page\n",
    "users_visited_downgrade = df_raw.select(\"userid\", \"ts\").where(df_raw[\"page\"] == \"Submit Downgrade\").limit(30)\n",
    "# Inner join with all users\n",
    "inner = df_raw.alias(\"raw\").join(users_visited_downgrade.alias(\"uv\"), df_raw[\"userid\"] == users_visited_downgrade[\"userid\"])\n",
    "# Show actions of users after they visited the Downgrade page. If we guessed right we should see some \"NextSong\" events. \n",
    "inner.select(\"page\").where(col(\"raw.ts\") > col(\"uv.ts\")).show()"
   ]
  },
  {
   "cell_type": "code",
   "execution_count": 22,
   "metadata": {},
   "outputs": [
    {
     "name": "stdout",
     "output_type": "stream",
     "text": [
      "+--------------------+----------+\n",
      "|                page|      auth|\n",
      "+--------------------+----------+\n",
      "|              Logout| Logged In|\n",
      "|               About| Logged In|\n",
      "|    Submit Downgrade| Logged In|\n",
      "|     Add to Playlist| Logged In|\n",
      "|Cancellation Conf...| Cancelled|\n",
      "| Submit Registration|     Guest|\n",
      "|           Downgrade| Logged In|\n",
      "|                Help| Logged In|\n",
      "|             Upgrade| Logged In|\n",
      "|               Error|Logged Out|\n",
      "|               Login|Logged Out|\n",
      "|                Help|Logged Out|\n",
      "|              Cancel| Logged In|\n",
      "|               Error|     Guest|\n",
      "|                Home|     Guest|\n",
      "|                Help|     Guest|\n",
      "|                Home|Logged Out|\n",
      "|            NextSong| Logged In|\n",
      "|         Thumbs Down| Logged In|\n",
      "|               About|Logged Out|\n",
      "+--------------------+----------+\n",
      "only showing top 20 rows\n",
      "\n"
     ]
    }
   ],
   "source": [
    "# As we can see above our intuition was right. \n",
    " \n",
    "# Next we should be looking at data we can exclude. \n",
    "# By now it looks like most relevant events can be found in the \"page\" column.\n",
    "# Let us have another look at the corresponding values between the page and auth columns:\n",
    "df_raw.select(\"page\", \"auth\").distinct().show()"
   ]
  },
  {
   "cell_type": "code",
   "execution_count": 23,
   "metadata": {},
   "outputs": [
    {
     "name": "stdout",
     "output_type": "stream",
     "text": [
      "72\n"
     ]
    }
   ],
   "source": [
    "# Indeed it looks like in the auth column there are no more useful informations, because:\n",
    "# Cancelled and Login are already present, Guest cannot churn (no user id), and only Logged Out remains.\n",
    "# Therefore we can drop this column (all column drops in cell below).\n",
    "\n",
    "# Some more analysis, for the fields \"userAgent\" and \"itemInSession\" about which I'm not sure\n",
    "print(df_raw.select(\"userAgent\").distinct().count())"
   ]
  },
  {
   "cell_type": "code",
   "execution_count": 24,
   "metadata": {},
   "outputs": [
    {
     "name": "stdout",
     "output_type": "stream",
     "text": [
      "+---------+-----+\n",
      "|sessionId|count|\n",
      "+---------+-----+\n",
      "|     2882|   21|\n",
      "|     3024|  132|\n",
      "|     4482|   36|\n",
      "|     4051|  261|\n",
      "|     3766|  434|\n",
      "|     4358|   40|\n",
      "|     2530|  354|\n",
      "|     4176|  606|\n",
      "|      696|   33|\n",
      "|     1128|   69|\n",
      "|     2821|  146|\n",
      "|     3853|   34|\n",
      "|     1811|    6|\n",
      "|      561|   48|\n",
      "|     1650|   22|\n",
      "|      966|  240|\n",
      "|     1246|  262|\n",
      "|     3514|  140|\n",
      "|     1739|   68|\n",
      "|     4610|  192|\n",
      "+---------+-----+\n",
      "only showing top 20 rows\n",
      "\n"
     ]
    }
   ],
   "source": [
    "# There are a lot of user agents. It might be that desktop users churn more often than mobile, or windows users \n",
    "# more often than Mac users, but looking at the user agent data, parsing this is out of scope for this project,\n",
    "# so we will drop the column.\n",
    "\n",
    "# What is itemInSession? Maybe it is a denormalization of artists/songs per session?\n",
    "# Let's have a closer look for a specific user:\n",
    "\n",
    "# First, find an active user:\n",
    "#print(df_pandas[\"userId\"].value_counts()) # From this we get user 92\n",
    "#df_raw.select(\"sessionId\").distinct().where(col(\"userId\") == 92).show()\n",
    "# Now we look for a session with many events\n",
    "df_raw.select(\"sessionId\").where(col(\"userId\") == 92).groupBy(\"sessionId\").count().show() # session 4176"
   ]
  },
  {
   "cell_type": "code",
   "execution_count": 25,
   "metadata": {},
   "outputs": [
    {
     "name": "stdout",
     "output_type": "stream",
     "text": [
      "+---------------+-----+\n",
      "|           page|count|\n",
      "+---------------+-----+\n",
      "|    Thumbs Down|    5|\n",
      "|           Home|   34|\n",
      "|      Downgrade|    5|\n",
      "|    Roll Advert|    1|\n",
      "|         Logout|    7|\n",
      "|          About|    4|\n",
      "|       Settings|    2|\n",
      "|          Login|    7|\n",
      "|Add to Playlist|   14|\n",
      "|     Add Friend|   10|\n",
      "|       NextSong|  515|\n",
      "|      Thumbs Up|   23|\n",
      "|           Help|    6|\n",
      "|          Error|    1|\n",
      "+---------------+-----+\n",
      "\n"
     ]
    }
   ],
   "source": [
    "# Get the events for the session\n",
    "df_raw.select(\"page\").where(col(\"sessionId\") == 4176).groupBy(\"page\").count().show()"
   ]
  },
  {
   "cell_type": "code",
   "execution_count": 26,
   "metadata": {},
   "outputs": [
    {
     "name": "stdout",
     "output_type": "stream",
     "text": [
      "+-------------+\n",
      "|itemInSession|\n",
      "+-------------+\n",
      "|            0|\n",
      "|            1|\n",
      "|            2|\n",
      "|            3|\n",
      "|            4|\n",
      "|            5|\n",
      "|            6|\n",
      "|            7|\n",
      "|            8|\n",
      "|            9|\n",
      "|           10|\n",
      "|           11|\n",
      "|           12|\n",
      "|           13|\n",
      "|           14|\n",
      "|           15|\n",
      "|           16|\n",
      "|           17|\n",
      "|           18|\n",
      "|           19|\n",
      "+-------------+\n",
      "only showing top 20 rows\n",
      "\n",
      "634\n"
     ]
    }
   ],
   "source": [
    "# Finally, contrast this with the itemInSession column.\n",
    "df_raw.select(\"itemInSession\").where(col(\"sessionId\") == 4176).show()\n",
    "print(df_raw.select(\"itemInSession\").where(col(\"sessionId\") == 4176).count())"
   ]
  },
  {
   "cell_type": "code",
   "execution_count": 27,
   "metadata": {},
   "outputs": [
    {
     "name": "stdout",
     "output_type": "stream",
     "text": [
      "634\n",
      "40\n"
     ]
    }
   ],
   "source": [
    "# It looks more like an order of events, let us check the event counts for this and one more session to be sure:\n",
    "print(df_raw.select(\"sessionId\", \"itemInSession\").where(col(\"sessionId\") == 4176).count())\n",
    "print(df_raw.select(\"sessionId\", \"itemInSession\").where(col(\"sessionId\") == 4482).count())"
   ]
  },
  {
   "cell_type": "code",
   "execution_count": 28,
   "metadata": {},
   "outputs": [
    {
     "name": "stdout",
     "output_type": "stream",
     "text": [
      "Total sum of itemInSession and length per user\n",
      "+------+-----------+------------------+------------------+\n",
      "|userId|sum(userId)|sum(itemInSession)|       sum(length)|\n",
      "+------+-----------+------------------+------------------+\n",
      "|  null|       null|           1435119|              null|\n",
      "|     2|       1882|            117635|190656.66552000013|\n",
      "|     3|         75|               300| 6250.908289999999|\n",
      "|     4|       2168|             20845|100179.27037000001|\n",
      "|     5|       1390|             15536|54095.391340000024|\n",
      "+------+-----------+------------------+------------------+\n",
      "only showing top 5 rows\n",
      "\n",
      "Total session items per user\n",
      "+------+-----+\n",
      "|userId|count|\n",
      "+------+-----+\n",
      "|  null|15700|\n",
      "|     2|  941|\n",
      "|     3|   25|\n",
      "|     4|  542|\n",
      "|     5|  278|\n",
      "+------+-----+\n",
      "only showing top 5 rows\n",
      "\n",
      "Total sessions per user\n",
      "+------+-----+\n",
      "|userId|count|\n",
      "+------+-----+\n",
      "|  null| 3158|\n",
      "|     2|   11|\n",
      "|     3|    1|\n",
      "|     4|   16|\n",
      "|     5|    4|\n",
      "+------+-----+\n",
      "only showing top 5 rows\n",
      "\n"
     ]
    }
   ],
   "source": [
    "# It seems like it sticks close the the number of events. The number of events per session could be helpful, but probably not \n",
    "# the order. Anyway we can later calculate the number of events per session if needed, so we will drop the column for now.\n",
    "\n",
    "# User activity could be a very imteresting factor. Apart form itemInSession, we can also look at the when/how often a user\n",
    "# logs in, the frequency over time, etc. But that is beyond my project scope, so we could at least create sums and counts\n",
    "# of the number of sessions/itemInSession. We could also treat song length like this. These values would simply be added\n",
    "# as feature column per user (denormalized, like churn and other features)\n",
    "# For a better solution, we should divide the time frames into constant sets of weeks or days.\n",
    "# Anyway if there is time I might incorporate these.\n",
    "\n",
    "print(\"Total sum of itemInSession and length per user\")\n",
    "df_raw.select(\"userId\", \"itemInSession\", \"length\").groupBy(\"userId\").sum().orderBy(\"userId\").show(5)\n",
    "print(\"Total session items per user\")\n",
    "df_raw.select(\"userId\", \"sessionId\").groupBy(\"userId\").count().orderBy(\"userId\").show(5)\n",
    "print(\"Total sessions per user\")\n",
    "df_raw.select(\"userId\", \"sessionId\").distinct().groupBy(\"userId\").count().orderBy(\"userId\").show(5)"
   ]
  },
  {
   "cell_type": "markdown",
   "metadata": {},
   "source": [
    "## Data Cleaning\n",
    "\n",
    "After we looked at the data closely, we can drop the columns and rows we identified above, and some others we will not be looking at. Criteria here is also project scope and duration. In later versions we can choose to re-examine this data.\n",
    "\n",
    "### Deduplication\n",
    "\n",
    "Before we do the actual dta cleaning, we need to take a look at duplicte values.\n",
    "We should to do this before cleaning, because if we were to delete columns first, we may lose information that we need to identify doubles. "
   ]
  },
  {
   "cell_type": "code",
   "execution_count": 29,
   "metadata": {},
   "outputs": [
    {
     "data": {
      "text/plain": [
       "543705"
      ]
     },
     "execution_count": 29,
     "metadata": {},
     "output_type": "execute_result"
    }
   ],
   "source": [
    "df_raw = df_raw.dropDuplicates()\n",
    "df_raw.count()"
   ]
  },
  {
   "cell_type": "markdown",
   "metadata": {},
   "source": [
    "### Drop columns and rows"
   ]
  },
  {
   "cell_type": "code",
   "execution_count": 30,
   "metadata": {},
   "outputs": [],
   "source": [
    "# We are finally ready to drop the columns.\n",
    "df_raw = df_raw.drop(\"auth\")\n",
    "df_raw = df_raw.drop(\"itemInSession\")\n",
    "df_raw = df_raw.drop(\"userAgent\")\n",
    "\n",
    "# We will only sum up totals of values per user, and in this project will not be partitioning data into time frames.\n",
    "# Therefore, column \"ts\" is obsolete.\n",
    "df_raw = df_raw.drop(\"ts\")\n",
    "\n",
    "# The HTTP method used for each request will hardly affect churn in any way.\n",
    "# Also above we have determined that we don't need \"status\".\n",
    "df_raw = df_raw.drop(\"method\")\n",
    "df_raw = df_raw.drop(\"status\")\n",
    "\n",
    "# Also there are some columns that we will drop, which may or may not improve prediction results,\n",
    "# but are beyond the scope of this project.\n",
    "\n",
    "# Names may have an impact, but we would need to do something like TF-IDF (or pyspark equivalent string vectorizer)\n",
    "# Also at the time thre are not even 500 unique users (in the reduced set), I think that will not be enough.\n",
    "# (In contrast I am keeping locations and userAGents becuase these represent many users)\n",
    "df_raw = df_raw.drop(\"firstName\")\n",
    "df_raw = df_raw.drop(\"lastName\")\n",
    "\n",
    "# Artists and song infos, may also have an impact, as well as whether users who listen to a broader \n",
    "# range of artists and songs. Again for this simple project we will not include these. \n",
    "df_raw = df_raw.drop(\"artist\")\n",
    "df_raw = df_raw.drop(\"song\")\n",
    "\n",
    "# Other columns\n",
    "# sessionId: This may be useful to determine counts and statistics about a users' session. \n",
    "# If there is enough time, we could f.i. calculate average number of songs per session\n",
    "# which should seem like a good predictor, so we will keep this column for now and decide in feature extraction."
   ]
  },
  {
   "cell_type": "code",
   "execution_count": 31,
   "metadata": {},
   "outputs": [
    {
     "name": "stdout",
     "output_type": "stream",
     "text": [
      "root\n",
      " |-- gender: string (nullable = true)\n",
      " |-- length: double (nullable = true)\n",
      " |-- level: string (nullable = true)\n",
      " |-- location: string (nullable = true)\n",
      " |-- page: string (nullable = true)\n",
      " |-- registration: long (nullable = true)\n",
      " |-- sessionId: long (nullable = true)\n",
      " |-- userId: integer (nullable = true)\n",
      "\n"
     ]
    }
   ],
   "source": [
    "# What does our reduced dataset's schema look like?\n",
    "df_raw.printSchema()"
   ]
  },
  {
   "cell_type": "code",
   "execution_count": 32,
   "metadata": {},
   "outputs": [],
   "source": [
    "# Now we are going to drop some rows with missing values.\n",
    "\n",
    "# We determined that all guests can be removed:\n",
    "df_raw = df_raw.filter(df_raw[\"registration\"].isNotNull())\n",
    "\n",
    "# Now we can drop the column\n",
    "df_raw = df_raw.drop(\"registration\")"
   ]
  },
  {
   "cell_type": "markdown",
   "metadata": {},
   "source": [
    "### Filling values\n",
    "\n",
    "In the length column there are missing values.\n",
    "Since if we are going to use this column, we will sum it, we should fill the missing values with the number 0"
   ]
  },
  {
   "cell_type": "code",
   "execution_count": 33,
   "metadata": {},
   "outputs": [],
   "source": [
    "df_raw = df_raw.na.fill(0, subset = [\"length\"])"
   ]
  },
  {
   "cell_type": "markdown",
   "metadata": {},
   "source": [
    "### Results of cleaning\n",
    "\n",
    "Taking a look at the cleaned dataset."
   ]
  },
  {
   "cell_type": "code",
   "execution_count": 34,
   "metadata": {},
   "outputs": [
    {
     "name": "stdout",
     "output_type": "stream",
     "text": [
      "Shape: (528005, 7)\n",
      "Nulls: gender       0\n",
      "length       0\n",
      "level        0\n",
      "location     0\n",
      "page         0\n",
      "sessionId    0\n",
      "userId       0\n",
      "dtype: int64\n"
     ]
    }
   ],
   "source": [
    "df_pandas = df_raw.toPandas()\n",
    "print(\"Shape: {}\".format(df_pandas.shape))\n",
    "print(\"Nulls: {}\".format(df_pandas.isnull().sum()))"
   ]
  },
  {
   "cell_type": "code",
   "execution_count": 35,
   "metadata": {},
   "outputs": [
    {
     "data": {
      "text/plain": [
       "99"
      ]
     },
     "execution_count": 35,
     "metadata": {},
     "output_type": "execute_result"
    }
   ],
   "source": [
    "# Are the relevant page events still present after we deleted some data?\n",
    "df_raw.select(\"page\").filter(col(\"page\") == \"Cancellation Confirmation\").count()"
   ]
  },
  {
   "cell_type": "code",
   "execution_count": 36,
   "metadata": {},
   "outputs": [],
   "source": [
    "# This looks very good, no missing values are present, we simplified the dataset schema,\n",
    "# and all of the 99 Cancellation events are still there.\n",
    "# Data cleaning is finished, let's continue with the target label transformation."
   ]
  },
  {
   "cell_type": "markdown",
   "metadata": {},
   "source": [
    "## Target Label Transformation: Churn\n",
    "\n",
    "Before we can do any meaningful vissualizations, we need to do the most important transformation, which is creating the churn label.\n",
    "\n",
    "All users who did churn (where the column \"page\" at some point has a \"Cancellation Confirmation\")\n",
    "will get a \"1\" value in a new column called \"churn\"."
   ]
  },
  {
   "cell_type": "code",
   "execution_count": 37,
   "metadata": {},
   "outputs": [],
   "source": [
    "# Build a subset of users that churned:\n",
    "df_churn = df_raw.select(\"userId\").filter(col(\"page\") == \"Cancellation Confirmation\").distinct()\n",
    "# Create a list for easy access in udf for churn value denormalization\n",
    "df_churn_list = [r[\"userId\"] for r in df_churn.select(\"userId\").collect()]"
   ]
  },
  {
   "cell_type": "code",
   "execution_count": 38,
   "metadata": {},
   "outputs": [],
   "source": [
    "# Expand the cancellation events into a new \"churn\" column for all user records.\n",
    "\n",
    "def encodeCancellation(userId):\n",
    "    \"\"\" Encode the cancellation event for all users\n",
    "    The list of cancelled users has been calculated before.\n",
    "    INPUT:\n",
    "        userId: The userId of the record to check for encoding\n",
    "    OUTPUT:\n",
    "        1: If the user will cancel\n",
    "        0: If the user will not cancel\n",
    "    \"\"\"\n",
    "    if(userId in df_churn_list):\n",
    "        return 1\n",
    "    return 0\n",
    "    \n",
    "cancellation_udf = udf(encodeCancellation, IntegerType())\n",
    "df_raw = df_raw.withColumn(\"churn\", cancellation_udf(df_raw[\"userId\"]))"
   ]
  },
  {
   "cell_type": "code",
   "execution_count": 39,
   "metadata": {},
   "outputs": [
    {
     "name": "stdout",
     "output_type": "stream",
     "text": [
      "Denormalized churn rate: 24.42413145473526\n"
     ]
    }
   ],
   "source": [
    "# Show churn rate (Denormalized over all events, per user)\n",
    "countChurn = df_raw.filter(col(\"churn\") == 1).count()\n",
    "countNoChurn = df_raw.filter(col(\"churn\") == 0).count()\n",
    "print(\"Denormalized churn rate: {}\".format((countChurn / countNoChurn) * 100))"
   ]
  },
  {
   "cell_type": "code",
   "execution_count": 40,
   "metadata": {},
   "outputs": [],
   "source": [
    "# The target data is not balanced."
   ]
  },
  {
   "cell_type": "markdown",
   "metadata": {},
   "source": [
    "## Visualization\n",
    "\n",
    "To get an even better impression of the data and take the next steps towards Transformation and Feature Engineering, we visualize some aspects of the data here.\n",
    "\n",
    "We plot before transformation becuase afterwards certain columns will be one hot encoded or aggregated."
   ]
  },
  {
   "cell_type": "code",
   "execution_count": 41,
   "metadata": {},
   "outputs": [],
   "source": [
    "# Convert raw which now includes churn to pandas\n",
    "df_pandas = df_raw.toPandas()"
   ]
  },
  {
   "cell_type": "markdown",
   "metadata": {},
   "source": [
    "### Relation of level and gender to churn\n",
    "\n",
    "For level and gender, we will show the total number of values side by side with the values per churn."
   ]
  },
  {
   "cell_type": "code",
   "execution_count": 42,
   "metadata": {},
   "outputs": [],
   "source": [
    "# There may be matplotlib warnings becuase we're running in a notebook, disable temporarily\n",
    "import warnings\n",
    "warnings.filterwarnings(\"ignore\")"
   ]
  },
  {
   "cell_type": "code",
   "execution_count": 43,
   "metadata": {},
   "outputs": [
    {
     "data": {
      "image/png": "[encoded data removed]",
      "text/plain": [
       "<Figure size 720x288 with 2 Axes>"
      ]
     },
     "metadata": {
      "needs_background": "light"
     },
     "output_type": "display_data"
    }
   ],
   "source": [
    "# Plot level\n",
    "fig, ax = plt.subplots(1, 2)\n",
    "sns.countplot(x = \"level\", data = df_pandas[[\"level\", \"churn\"]], ax = ax[0]).set_title('Total level counts')\n",
    "g = sns.countplot(x = \"level\", hue = \"churn\", data = df_pandas[[\"level\", \"churn\"]], ax = ax[1])\n",
    "g.set_title('Level counts per churn')\n",
    "g.figure.set_figwidth(10)\n",
    "fig.tight_layout(pad = 5.0)\n",
    "fig.show()"
   ]
  },
  {
   "cell_type": "code",
   "execution_count": 44,
   "metadata": {},
   "outputs": [
    {
     "data": {
      "image/png": "[encoded data removed]",
      "text/plain": [
       "<Figure size 720x288 with 2 Axes>"
      ]
     },
     "metadata": {
      "needs_background": "light"
     },
     "output_type": "display_data"
    }
   ],
   "source": [
    "# Plot gender\n",
    "fig, ax = plt.subplots(1, 2)\n",
    "sns.countplot(x = \"gender\", data = df_pandas[[\"gender\", \"churn\"]], ax = ax[0]).set_title('Total gender counts')\n",
    "g = sns.countplot(x = \"gender\", hue = \"churn\", data = df_pandas[[\"gender\", \"churn\"]], ax = ax[1])\n",
    "g.set_title('Gender counts per churn')\n",
    "g.figure.set_figwidth(10)\n",
    "fig.tight_layout(pad = 5.0)\n",
    "fig.show()"
   ]
  },
  {
   "cell_type": "code",
   "execution_count": 45,
   "metadata": {},
   "outputs": [],
   "source": [
    "# Pandas DF is nt needed anymore here. Allow GC to collect\n",
    "df_pandas = None"
   ]
  },
  {
   "cell_type": "markdown",
   "metadata": {},
   "source": [
    "## Transformations and feature preparing\n",
    "\n",
    "After exploration and visualization, we have a clear understanding of the data and the direction we want to go for engineering features later, so we are ready for some data transformations now. Where approriate and convenient, we will prepare features\n",
    "that will be placed in our final feature vector.\n",
    "\n",
    "### One-hot encodings\n",
    "\n",
    "We will string index the columns level and gender.\n",
    "Later we will repeat the same for the page events, and finally we will sum the session and length columns.\n",
    "\n",
    "### level and gender"
   ]
  },
  {
   "cell_type": "code",
   "execution_count": 46,
   "metadata": {},
   "outputs": [],
   "source": [
    "# We user StringIndexer for these features.\n",
    "df_raw = StringIndexer(inputCol = \"level\", outputCol = \"level_index\") \\\n",
    "    .fit(df_raw).transform(df_raw)\n",
    "\n",
    "df_raw = df_raw.drop(\"level\")\n",
    "\n",
    "# Repeat for gender\n",
    "df_raw = StringIndexer(inputCol = \"gender\", outputCol = \"gender_index\") \\\n",
    "    .fit(df_raw).transform(df_raw)\n",
    "\n",
    "df_raw = df_raw.drop(\"gender\")"
   ]
  },
  {
   "cell_type": "markdown",
   "metadata": {},
   "source": [
    "### state"
   ]
  },
  {
   "cell_type": "code",
   "execution_count": 47,
   "metadata": {},
   "outputs": [],
   "source": [
    "# At 448 users, the locations will probably not have a big impact. So we will try collecting users in states, and see how \n",
    "# that works out. Here the pyspark function regexp_extract comes in handy.\n",
    "\n",
    "# The below regular expression matches the format \"City, State\" and extracts the state.\n",
    "df_raw = df_raw.withColumn(\"state\", regexp_extract(col(\"location\"), r'^.{1,},\\s?([A-Z\\-]{2,11})$', 1))\n",
    "\n",
    "df_raw = df_raw.drop(\"location\")"
   ]
  },
  {
   "cell_type": "code",
   "execution_count": 48,
   "metadata": {},
   "outputs": [
    {
     "data": {
      "text/plain": [
       "70"
      ]
     },
     "execution_count": 48,
     "metadata": {},
     "output_type": "execute_result"
    }
   ],
   "source": [
    "# How many states are there?\n",
    "df_raw.select(\"state\").distinct().count()"
   ]
  },
  {
   "cell_type": "code",
   "execution_count": 49,
   "metadata": {},
   "outputs": [],
   "source": [
    "# Do some more visualization: State to churn\n",
    "df_pandas = df_raw.toPandas()"
   ]
  },
  {
   "cell_type": "code",
   "execution_count": 50,
   "metadata": {},
   "outputs": [
    {
     "data": {
      "image/png": "[encoded data removed]",
      "text/plain": [
       "<Figure size 2880x720 with 1 Axes>"
      ]
     },
     "metadata": {
      "needs_background": "light"
     },
     "output_type": "display_data"
    }
   ],
   "source": [
    "# We have compacted 192 locations to 70 states. Sounds good! \n",
    "g = sns.countplot(x = \"state\", hue = \"churn\", data = df_pandas[[\"state\", \"churn\"]])\n",
    "g.set_title('State counts per churn',fontsize = 50)\n",
    "g.figure.set_figwidth(40)\n",
    "g.figure.set_figheight(10)\n",
    "g.set_xlabel(\"State\",fontsize = 30)\n",
    "g.set_ylabel(\"Count\",fontsize = 30)\n",
    "g.tick_params(labelsize = 25)\n",
    "g.set_xticklabels(g.get_xticklabels(), rotation = 45)\n",
    "fig.show()"
   ]
  },
  {
   "cell_type": "code",
   "execution_count": 51,
   "metadata": {},
   "outputs": [],
   "source": [
    "# Note: I decided to leave this feature out after all, since there seems to be little correlation and there are some\n",
    "# aggregated fields like DC-VA-MD-WA. Also it is more effort to recreate the one-hot-encoded value in the web app.\n",
    "# I left this code in here commented out, as proof of work.\n",
    "\n",
    "# It looks like there could be some relevance here so we will keep the state column as feature component.\n",
    "# Since this is non-boolean categorical data we can use a StringIndexer.\n",
    "\n",
    "#df_raw = StringIndexer(inputCol = \"state\", outputCol = \"state_index\") \\\n",
    "#    .fit(df_raw).transform(df_raw)\n",
    "\n",
    "#df_raw = df_raw.drop(\"state\")"
   ]
  },
  {
   "cell_type": "code",
   "execution_count": 52,
   "metadata": {},
   "outputs": [],
   "source": [
    "# state is a nominal so we should one-hot encode the state_index column\n",
    "#df_raw = OneHotEncoder(inputCol = \"state_index\", outputCol = \"state_encoded\") \\\n",
    "#    .transform(df_raw)\n",
    "\n",
    "#df_raw = df_raw.drop(\"state_index\")\n",
    "df_raw = df_raw.drop(\"state\")"
   ]
  },
  {
   "cell_type": "code",
   "execution_count": 53,
   "metadata": {},
   "outputs": [
    {
     "name": "stdout",
     "output_type": "stream",
     "text": [
      "+---------+---------------+---------+------+-----+-----------+------------+\n",
      "|   length|           page|sessionId|userId|churn|level_index|gender_index|\n",
      "+---------+---------------+---------+------+-----+-----------+------------+\n",
      "|      0.0|    Roll Advert|      195|   196|    1|        1.0|         0.0|\n",
      "|277.52444|       NextSong|      195|   196|    1|        1.0|         0.0|\n",
      "|168.61995|       NextSong|      222|   223|    1|        1.0|         0.0|\n",
      "|251.55873|       NextSong|      178|   179|    0|        0.0|         0.0|\n",
      "|168.59383|       NextSong|      418|   127|    0|        0.0|         1.0|\n",
      "|      0.0|     Add Friend|      245|   246|    1|        0.0|         1.0|\n",
      "|      0.0|      Thumbs Up|      287|   288|    1|        0.0|         0.0|\n",
      "|188.08118|       NextSong|      245|   246|    1|        0.0|         1.0|\n",
      "|180.06159|       NextSong|      492|    95|    0|        0.0|         1.0|\n",
      "| 192.9922|       NextSong|      526|   293|    1|        1.0|         0.0|\n",
      "|429.94893|       NextSong|      235|   236|    1|        0.0|         0.0|\n",
      "|224.13016|       NextSong|      504|   238|    0|        1.0|         0.0|\n",
      "|664.55465|       NextSong|      548|   246|    1|        0.0|         1.0|\n",
      "|228.93669|       NextSong|      166|   167|    1|        1.0|         1.0|\n",
      "|209.34485|       NextSong|      570|   140|    1|        1.0|         1.0|\n",
      "|260.75383|       NextSong|      548|   246|    1|        0.0|         1.0|\n",
      "| 250.8273|       NextSong|      112|   113|    0|        1.0|         1.0|\n",
      "|309.49832|       NextSong|      407|    59|    0|        1.0|         0.0|\n",
      "|      0.0|Add to Playlist|       57|    58|    0|        1.0|         0.0|\n",
      "|      0.0|      Thumbs Up|      553|   195|    0|        1.0|         0.0|\n",
      "+---------+---------------+---------+------+-----+-----------+------------+\n",
      "only showing top 20 rows\n",
      "\n"
     ]
    }
   ],
   "source": [
    "df_raw.show()"
   ]
  },
  {
   "cell_type": "markdown",
   "metadata": {},
   "source": [
    "### Page events\n",
    "\n",
    "We select some more page events to include as feature components. I have selected the values:\n",
    "    \n",
    "    * Thumbs Up\n",
    "    * Thumbs Down\n",
    "    * NextSong \n",
    "    * Downgrade"
   ]
  },
  {
   "cell_type": "code",
   "execution_count": 54,
   "metadata": {},
   "outputs": [],
   "source": [
    "def sumColumn(df, columnToSum, columnSumName):\n",
    "    \"\"\" Calculate the sum of values in the \"page\" column aggregated by \"userId\" in the passed column and create a new column.\n",
    "    INPUT:\n",
    "        df: The dataframe to perform the operation on.\n",
    "        columnToSum: Name of the column to sum values for.\n",
    "        columnSumName: Name of the new column.\n",
    "    OUTPUT:\n",
    "        The dataframe with the new column of the summed up values of the old column.\n",
    "    \"\"\"\n",
    "    # Add a column that shows whenever the user clicked a \"Thumbs Up\"\n",
    "    df = df.withColumn(\"temp\", when(col(\"page\") == columnToSum, 1).otherwise(0))\n",
    "    # Add a column that uses the aggregated sum of thumbs up per user and join it back into the main dataset \n",
    "    df = df.join(\n",
    "        df.groupby('userId').agg({\"temp\": \"sum\"}).withColumnRenamed(\"sum(temp)\", columnSumName), [\"userId\"])\n",
    "    # Drop unnused column\n",
    "    return df.drop(\"temp\")"
   ]
  },
  {
   "cell_type": "code",
   "execution_count": 55,
   "metadata": {},
   "outputs": [],
   "source": [
    "df_raw = sumColumn(df_raw, \"Thumbs Up\", \"thumbs_up_sum\")\n",
    "df_raw = sumColumn(df_raw, \"Thumbs Down\", \"thumbs_down_sum\")\n",
    "df_raw = sumColumn(df_raw, \"NextSong\", \"nextsong_sum\")\n",
    "df_raw = sumColumn(df_raw, \"Downgrade\", \"downgrade_sum\")"
   ]
  },
  {
   "cell_type": "code",
   "execution_count": 56,
   "metadata": {},
   "outputs": [],
   "source": [
    "# Now we can get rid of the \"page\" column.\n",
    "df_raw = df_raw.drop(\"page\")"
   ]
  },
  {
   "cell_type": "code",
   "execution_count": 57,
   "metadata": {
    "scrolled": true
   },
   "outputs": [
    {
     "name": "stdout",
     "output_type": "stream",
     "text": [
      "+------+---------+---------+-----+-----------+------------+-------------+---------------+------------+-------------+\n",
      "|userId|   length|sessionId|churn|level_index|gender_index|thumbs_up_sum|thumbs_down_sum|nextsong_sum|downgrade_sum|\n",
      "+------+---------+---------+-----+-----------+------------+-------------+---------------+------------+-------------+\n",
      "|   148|  257.802|     3208|    0|        1.0|         0.0|           10|              4|         307|            0|\n",
      "|   148|386.76853|      992|    0|        1.0|         0.0|           10|              4|         307|            0|\n",
      "|   148|340.63628|      992|    0|        1.0|         0.0|           10|              4|         307|            0|\n",
      "|   148| 225.2273|     2290|    0|        1.0|         0.0|           10|              4|         307|            0|\n",
      "|   148|309.99465|     2290|    0|        1.0|         0.0|           10|              4|         307|            0|\n",
      "|   148|236.12036|      992|    0|        1.0|         0.0|           10|              4|         307|            0|\n",
      "|   148|266.52689|      992|    0|        1.0|         0.0|           10|              4|         307|            0|\n",
      "|   148|      0.0|     2801|    0|        1.0|         0.0|           10|              4|         307|            0|\n",
      "|   148|451.21261|     3208|    0|        1.0|         0.0|           10|              4|         307|            0|\n",
      "|   148|      0.0|     3416|    0|        1.0|         0.0|           10|              4|         307|            0|\n",
      "|   148|187.37587|     4184|    0|        1.0|         0.0|           10|              4|         307|            0|\n",
      "|   148|      0.0|     1737|    0|        1.0|         0.0|           10|              4|         307|            0|\n",
      "|   148|312.47628|     2290|    0|        1.0|         0.0|           10|              4|         307|            0|\n",
      "|   148| 246.9873|      147|    0|        1.0|         0.0|           10|              4|         307|            0|\n",
      "|   148|      0.0|     3308|    0|        1.0|         0.0|           10|              4|         307|            0|\n",
      "|   148|229.22404|     1737|    0|        1.0|         0.0|           10|              4|         307|            0|\n",
      "|   148|255.68608|     1737|    0|        1.0|         0.0|           10|              4|         307|            0|\n",
      "|   148|275.04281|     2290|    0|        1.0|         0.0|           10|              4|         307|            0|\n",
      "|   148|290.84689|     1737|    0|        1.0|         0.0|           10|              4|         307|            0|\n",
      "|   148|201.32526|     1737|    0|        1.0|         0.0|           10|              4|         307|            0|\n",
      "+------+---------+---------+-----+-----------+------------+-------------+---------------+------------+-------------+\n",
      "only showing top 20 rows\n",
      "\n"
     ]
    }
   ],
   "source": [
    "df_raw.show()"
   ]
  },
  {
   "cell_type": "markdown",
   "metadata": {},
   "source": [
    "### length\n",
    "\n",
    "We will denormalize the accumulated length info for each user."
   ]
  },
  {
   "cell_type": "code",
   "execution_count": 58,
   "metadata": {
    "scrolled": true
   },
   "outputs": [],
   "source": [
    "df_raw = df_raw.join(\n",
    "    df_raw.groupby('userId').agg({\"length\": \"sum\"}).withColumnRenamed(\"sum(length)\", \"length_sum\"), [\"userId\"])\n",
    "\n",
    "df_raw = df_raw.drop(\"length\")"
   ]
  },
  {
   "cell_type": "markdown",
   "metadata": {},
   "source": [
    "### sessionId\n",
    "\n",
    "Finally we calculate the sum of unique sessions for each user. This time the function countDistinct is helpful."
   ]
  },
  {
   "cell_type": "code",
   "execution_count": 59,
   "metadata": {},
   "outputs": [],
   "source": [
    "df_raw = df_raw.join(\n",
    "    df_raw.groupby('userId').agg(countDistinct(\"sessionId\")) \\\n",
    "    .withColumnRenamed(\"count(DISTINCT sessionId)\", \"sessionId_count\"), [\"userId\"])\n",
    "\n",
    "df_raw = df_raw.drop(\"sessionId\")"
   ]
  },
  {
   "cell_type": "markdown",
   "metadata": {},
   "source": [
    "### Transformation and feature preparation result"
   ]
  },
  {
   "cell_type": "code",
   "execution_count": 60,
   "metadata": {
    "scrolled": true
   },
   "outputs": [
    {
     "name": "stdout",
     "output_type": "stream",
     "text": [
      "root\n",
      " |-- userId: integer (nullable = true)\n",
      " |-- churn: integer (nullable = true)\n",
      " |-- level_index: double (nullable = false)\n",
      " |-- gender_index: double (nullable = false)\n",
      " |-- thumbs_up_sum: long (nullable = true)\n",
      " |-- thumbs_down_sum: long (nullable = true)\n",
      " |-- nextsong_sum: long (nullable = true)\n",
      " |-- downgrade_sum: long (nullable = true)\n",
      " |-- length_sum: double (nullable = true)\n",
      " |-- sessionId_count: long (nullable = false)\n",
      "\n",
      "+------+-----+-----------+------------+-------------+---------------+------------+-------------+-----------------+---------------+\n",
      "|userId|churn|level_index|gender_index|thumbs_up_sum|thumbs_down_sum|nextsong_sum|downgrade_sum|       length_sum|sessionId_count|\n",
      "+------+-----+-----------+------------+-------------+---------------+------------+-------------+-----------------+---------------+\n",
      "|   148|    0|        1.0|         0.0|           10|              4|         307|            0|76207.76939999999|             10|\n",
      "|   148|    0|        1.0|         0.0|           10|              4|         307|            0|76207.76939999999|             10|\n",
      "|   148|    0|        1.0|         0.0|           10|              4|         307|            0|76207.76939999999|             10|\n",
      "|   148|    0|        1.0|         0.0|           10|              4|         307|            0|76207.76939999999|             10|\n",
      "|   148|    0|        1.0|         0.0|           10|              4|         307|            0|76207.76939999999|             10|\n",
      "|   148|    0|        1.0|         0.0|           10|              4|         307|            0|76207.76939999999|             10|\n",
      "|   148|    0|        1.0|         0.0|           10|              4|         307|            0|76207.76939999999|             10|\n",
      "|   148|    0|        1.0|         0.0|           10|              4|         307|            0|76207.76939999999|             10|\n",
      "|   148|    0|        1.0|         0.0|           10|              4|         307|            0|76207.76939999999|             10|\n",
      "|   148|    0|        1.0|         0.0|           10|              4|         307|            0|76207.76939999999|             10|\n",
      "|   148|    0|        1.0|         0.0|           10|              4|         307|            0|76207.76939999999|             10|\n",
      "|   148|    0|        1.0|         0.0|           10|              4|         307|            0|76207.76939999999|             10|\n",
      "|   148|    0|        1.0|         0.0|           10|              4|         307|            0|76207.76939999999|             10|\n",
      "|   148|    0|        1.0|         0.0|           10|              4|         307|            0|76207.76939999999|             10|\n",
      "|   148|    0|        1.0|         0.0|           10|              4|         307|            0|76207.76939999999|             10|\n",
      "|   148|    0|        1.0|         0.0|           10|              4|         307|            0|76207.76939999999|             10|\n",
      "|   148|    0|        1.0|         0.0|           10|              4|         307|            0|76207.76939999999|             10|\n",
      "|   148|    0|        1.0|         0.0|           10|              4|         307|            0|76207.76939999999|             10|\n",
      "|   148|    0|        1.0|         0.0|           10|              4|         307|            0|76207.76939999999|             10|\n",
      "|   148|    0|        1.0|         0.0|           10|              4|         307|            0|76207.76939999999|             10|\n",
      "+------+-----+-----------+------------+-------------+---------------+------------+-------------+-----------------+---------------+\n",
      "only showing top 20 rows\n",
      "\n"
     ]
    }
   ],
   "source": [
    "df_raw.printSchema()\n",
    "df_raw.show()"
   ]
  },
  {
   "cell_type": "markdown",
   "metadata": {},
   "source": [
    "## Visualization (Post-Transformation)"
   ]
  },
  {
   "cell_type": "code",
   "execution_count": 61,
   "metadata": {},
   "outputs": [
    {
     "data": {
      "text/plain": [
       "<matplotlib.axes._subplots.AxesSubplot at 0x212d936c908>"
      ]
     },
     "execution_count": 61,
     "metadata": {},
     "output_type": "execute_result"
    },
    {
     "data": {
      "image/png": "[encoded data removed]",
      "text/plain": [
       "<Figure size 432x288 with 2 Axes>"
      ]
     },
     "metadata": {
      "needs_background": "light"
     },
     "output_type": "display_data"
    }
   ],
   "source": [
    "# Calculate correlations and display a heatmap\n",
    "corr = df_raw.toPandas().corr()\n",
    "sns.heatmap(corr)"
   ]
  },
  {
   "cell_type": "code",
   "execution_count": 62,
   "metadata": {},
   "outputs": [],
   "source": [
    "# We see some highly correlated features that were extracted from the \"page\" event column."
   ]
  },
  {
   "cell_type": "markdown",
   "metadata": {},
   "source": [
    "## Export\n",
    "\n",
    "After all this work it is a good idea to save our progress.\n",
    "The dataframe will be saved in original form, as well as a feature version (VectorAssembled).\n",
    "This is also the version we will use for the rest of the project."
   ]
  },
  {
   "cell_type": "code",
   "execution_count": 63,
   "metadata": {},
   "outputs": [],
   "source": [
    "# Write original to parquet file\n",
    "df_raw.write.parquet(\"out/transformed.parquet\")"
   ]
  },
  {
   "cell_type": "code",
   "execution_count": 64,
   "metadata": {},
   "outputs": [
    {
     "name": "stdout",
     "output_type": "stream",
     "text": [
      "root\n",
      " |-- features: vector (nullable = true)\n",
      " |-- churn: integer (nullable = true)\n",
      "\n"
     ]
    }
   ],
   "source": [
    "# Assemble all features into a column\n",
    "df_raw = VectorAssembler(inputCols = \\\n",
    "                         [\"level_index\", \"gender_index\", \"thumbs_up_sum\", \"thumbs_down_sum\", \"nextsong_sum\", \"downgrade_sum\", \\\n",
    "                          \"length_sum\", \"sessionId_count\"], \\\n",
    "                         outputCol = \"features\").transform(df_raw)\n",
    "\n",
    "# Drop the unneeded columns\n",
    "df_raw = df_raw.select(\"features\", \"churn\")\n",
    "\n",
    "# Look at the schema\n",
    "df_raw.printSchema()"
   ]
  },
  {
   "cell_type": "code",
   "execution_count": 65,
   "metadata": {},
   "outputs": [],
   "source": [
    "# Write to parquet file\n",
    "df_raw.write.parquet(\"out/features.parquet\")"
   ]
  },
  {
   "cell_type": "code",
   "execution_count": 66,
   "metadata": {},
   "outputs": [
    {
     "data": {
      "text/plain": [
       "0"
      ]
     },
     "execution_count": 66,
     "metadata": {},
     "output_type": "execute_result"
    }
   ],
   "source": [
    "# Output the notebook to an html file\n",
    "from subprocess import call\n",
    "call(['python', '-m', 'nbconvert', 'etl-fe.ipynb'])"
   ]
  }
 ],
 "metadata": {
  "kernelspec": {
   "display_name": "Python 3",
   "language": "python",
   "name": "python3"
  },
  "language_info": {
   "codemirror_mode": {
    "name": "ipython",
    "version": 3
   },
   "file_extension": ".py",
   "mimetype": "text/x-python",
   "name": "python",
   "nbconvert_exporter": "python",
   "pygments_lexer": "ipython3",
   "version": "3.7.6"
  }
 },
 "nbformat": 4,
 "nbformat_minor": 4
}
